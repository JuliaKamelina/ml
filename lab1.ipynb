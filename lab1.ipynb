{
 "cells": [
  {
   "cell_type": "markdown",
   "metadata": {},
   "source": [
    "# Лабораторная работа №1\n",
    "\n"
   ]
  },
  {
   "cell_type": "code",
   "execution_count": 1,
   "metadata": {},
   "outputs": [],
   "source": [
    "import numpy as np\n",
    "import matplotlib.pyplot as plt\n",
    "import pandas as pd\n",
    "%matplotlib inline"
   ]
  },
  {
   "cell_type": "code",
   "execution_count": 2,
   "metadata": {},
   "outputs": [],
   "source": [
    "data = pd.read_csv('./zoo/zoo.csv', sep = ',', engine = 'python')"
   ]
  },
  {
   "cell_type": "code",
   "execution_count": 3,
   "metadata": {},
   "outputs": [
    {
     "data": {
      "text/plain": [
       "pandas.core.frame.DataFrame"
      ]
     },
     "execution_count": 3,
     "metadata": {},
     "output_type": "execute_result"
    }
   ],
   "source": [
    "type(data)"
   ]
  },
  {
   "cell_type": "code",
   "execution_count": 4,
   "metadata": {},
   "outputs": [
    {
     "data": {
      "text/html": [
       "<div>\n",
       "<style scoped>\n",
       "    .dataframe tbody tr th:only-of-type {\n",
       "        vertical-align: middle;\n",
       "    }\n",
       "\n",
       "    .dataframe tbody tr th {\n",
       "        vertical-align: top;\n",
       "    }\n",
       "\n",
       "    .dataframe thead th {\n",
       "        text-align: right;\n",
       "    }\n",
       "</style>\n",
       "<table border=\"1\" class=\"dataframe\">\n",
       "  <thead>\n",
       "    <tr style=\"text-align: right;\">\n",
       "      <th></th>\n",
       "      <th>animal_name</th>\n",
       "      <th>hair</th>\n",
       "      <th>feathers</th>\n",
       "      <th>eggs</th>\n",
       "      <th>milk</th>\n",
       "      <th>airborne</th>\n",
       "      <th>aquatic</th>\n",
       "      <th>predator</th>\n",
       "      <th>toothed</th>\n",
       "      <th>backbone</th>\n",
       "      <th>breathes</th>\n",
       "      <th>venomous</th>\n",
       "      <th>fins</th>\n",
       "      <th>legs</th>\n",
       "      <th>tail</th>\n",
       "      <th>domestic</th>\n",
       "      <th>catsize</th>\n",
       "      <th>class_type</th>\n",
       "    </tr>\n",
       "  </thead>\n",
       "  <tbody>\n",
       "    <tr>\n",
       "      <th>0</th>\n",
       "      <td>aardvark</td>\n",
       "      <td>1</td>\n",
       "      <td>0</td>\n",
       "      <td>0</td>\n",
       "      <td>1</td>\n",
       "      <td>0</td>\n",
       "      <td>0</td>\n",
       "      <td>1</td>\n",
       "      <td>1</td>\n",
       "      <td>1</td>\n",
       "      <td>1</td>\n",
       "      <td>0</td>\n",
       "      <td>0</td>\n",
       "      <td>4</td>\n",
       "      <td>0</td>\n",
       "      <td>0</td>\n",
       "      <td>1</td>\n",
       "      <td>1</td>\n",
       "    </tr>\n",
       "    <tr>\n",
       "      <th>1</th>\n",
       "      <td>antelope</td>\n",
       "      <td>1</td>\n",
       "      <td>0</td>\n",
       "      <td>0</td>\n",
       "      <td>1</td>\n",
       "      <td>0</td>\n",
       "      <td>0</td>\n",
       "      <td>0</td>\n",
       "      <td>1</td>\n",
       "      <td>1</td>\n",
       "      <td>1</td>\n",
       "      <td>0</td>\n",
       "      <td>0</td>\n",
       "      <td>4</td>\n",
       "      <td>1</td>\n",
       "      <td>0</td>\n",
       "      <td>1</td>\n",
       "      <td>1</td>\n",
       "    </tr>\n",
       "    <tr>\n",
       "      <th>2</th>\n",
       "      <td>bass</td>\n",
       "      <td>0</td>\n",
       "      <td>0</td>\n",
       "      <td>1</td>\n",
       "      <td>0</td>\n",
       "      <td>0</td>\n",
       "      <td>1</td>\n",
       "      <td>1</td>\n",
       "      <td>1</td>\n",
       "      <td>1</td>\n",
       "      <td>0</td>\n",
       "      <td>0</td>\n",
       "      <td>1</td>\n",
       "      <td>0</td>\n",
       "      <td>1</td>\n",
       "      <td>0</td>\n",
       "      <td>0</td>\n",
       "      <td>4</td>\n",
       "    </tr>\n",
       "    <tr>\n",
       "      <th>3</th>\n",
       "      <td>bear</td>\n",
       "      <td>1</td>\n",
       "      <td>0</td>\n",
       "      <td>0</td>\n",
       "      <td>1</td>\n",
       "      <td>0</td>\n",
       "      <td>0</td>\n",
       "      <td>1</td>\n",
       "      <td>1</td>\n",
       "      <td>1</td>\n",
       "      <td>1</td>\n",
       "      <td>0</td>\n",
       "      <td>0</td>\n",
       "      <td>4</td>\n",
       "      <td>0</td>\n",
       "      <td>0</td>\n",
       "      <td>1</td>\n",
       "      <td>1</td>\n",
       "    </tr>\n",
       "    <tr>\n",
       "      <th>4</th>\n",
       "      <td>boar</td>\n",
       "      <td>1</td>\n",
       "      <td>0</td>\n",
       "      <td>0</td>\n",
       "      <td>1</td>\n",
       "      <td>0</td>\n",
       "      <td>0</td>\n",
       "      <td>1</td>\n",
       "      <td>1</td>\n",
       "      <td>1</td>\n",
       "      <td>1</td>\n",
       "      <td>0</td>\n",
       "      <td>0</td>\n",
       "      <td>4</td>\n",
       "      <td>1</td>\n",
       "      <td>0</td>\n",
       "      <td>1</td>\n",
       "      <td>1</td>\n",
       "    </tr>\n",
       "    <tr>\n",
       "      <th>...</th>\n",
       "      <td>...</td>\n",
       "      <td>...</td>\n",
       "      <td>...</td>\n",
       "      <td>...</td>\n",
       "      <td>...</td>\n",
       "      <td>...</td>\n",
       "      <td>...</td>\n",
       "      <td>...</td>\n",
       "      <td>...</td>\n",
       "      <td>...</td>\n",
       "      <td>...</td>\n",
       "      <td>...</td>\n",
       "      <td>...</td>\n",
       "      <td>...</td>\n",
       "      <td>...</td>\n",
       "      <td>...</td>\n",
       "      <td>...</td>\n",
       "      <td>...</td>\n",
       "    </tr>\n",
       "    <tr>\n",
       "      <th>96</th>\n",
       "      <td>wallaby</td>\n",
       "      <td>1</td>\n",
       "      <td>0</td>\n",
       "      <td>0</td>\n",
       "      <td>1</td>\n",
       "      <td>0</td>\n",
       "      <td>0</td>\n",
       "      <td>0</td>\n",
       "      <td>1</td>\n",
       "      <td>1</td>\n",
       "      <td>1</td>\n",
       "      <td>0</td>\n",
       "      <td>0</td>\n",
       "      <td>2</td>\n",
       "      <td>1</td>\n",
       "      <td>0</td>\n",
       "      <td>1</td>\n",
       "      <td>1</td>\n",
       "    </tr>\n",
       "    <tr>\n",
       "      <th>97</th>\n",
       "      <td>wasp</td>\n",
       "      <td>1</td>\n",
       "      <td>0</td>\n",
       "      <td>1</td>\n",
       "      <td>0</td>\n",
       "      <td>1</td>\n",
       "      <td>0</td>\n",
       "      <td>0</td>\n",
       "      <td>0</td>\n",
       "      <td>0</td>\n",
       "      <td>1</td>\n",
       "      <td>1</td>\n",
       "      <td>0</td>\n",
       "      <td>6</td>\n",
       "      <td>0</td>\n",
       "      <td>0</td>\n",
       "      <td>0</td>\n",
       "      <td>6</td>\n",
       "    </tr>\n",
       "    <tr>\n",
       "      <th>98</th>\n",
       "      <td>wolf</td>\n",
       "      <td>1</td>\n",
       "      <td>0</td>\n",
       "      <td>0</td>\n",
       "      <td>1</td>\n",
       "      <td>0</td>\n",
       "      <td>0</td>\n",
       "      <td>1</td>\n",
       "      <td>1</td>\n",
       "      <td>1</td>\n",
       "      <td>1</td>\n",
       "      <td>0</td>\n",
       "      <td>0</td>\n",
       "      <td>4</td>\n",
       "      <td>1</td>\n",
       "      <td>0</td>\n",
       "      <td>1</td>\n",
       "      <td>1</td>\n",
       "    </tr>\n",
       "    <tr>\n",
       "      <th>99</th>\n",
       "      <td>worm</td>\n",
       "      <td>0</td>\n",
       "      <td>0</td>\n",
       "      <td>1</td>\n",
       "      <td>0</td>\n",
       "      <td>0</td>\n",
       "      <td>0</td>\n",
       "      <td>0</td>\n",
       "      <td>0</td>\n",
       "      <td>0</td>\n",
       "      <td>1</td>\n",
       "      <td>0</td>\n",
       "      <td>0</td>\n",
       "      <td>0</td>\n",
       "      <td>0</td>\n",
       "      <td>0</td>\n",
       "      <td>0</td>\n",
       "      <td>7</td>\n",
       "    </tr>\n",
       "    <tr>\n",
       "      <th>100</th>\n",
       "      <td>wren</td>\n",
       "      <td>0</td>\n",
       "      <td>1</td>\n",
       "      <td>1</td>\n",
       "      <td>0</td>\n",
       "      <td>1</td>\n",
       "      <td>0</td>\n",
       "      <td>0</td>\n",
       "      <td>0</td>\n",
       "      <td>1</td>\n",
       "      <td>1</td>\n",
       "      <td>0</td>\n",
       "      <td>0</td>\n",
       "      <td>2</td>\n",
       "      <td>1</td>\n",
       "      <td>0</td>\n",
       "      <td>0</td>\n",
       "      <td>2</td>\n",
       "    </tr>\n",
       "  </tbody>\n",
       "</table>\n",
       "<p>101 rows × 18 columns</p>\n",
       "</div>"
      ],
      "text/plain": [
       "    animal_name  hair  feathers  eggs  milk  airborne  aquatic  predator  \\\n",
       "0      aardvark     1         0     0     1         0        0         1   \n",
       "1      antelope     1         0     0     1         0        0         0   \n",
       "2          bass     0         0     1     0         0        1         1   \n",
       "3          bear     1         0     0     1         0        0         1   \n",
       "4          boar     1         0     0     1         0        0         1   \n",
       "..          ...   ...       ...   ...   ...       ...      ...       ...   \n",
       "96      wallaby     1         0     0     1         0        0         0   \n",
       "97         wasp     1         0     1     0         1        0         0   \n",
       "98         wolf     1         0     0     1         0        0         1   \n",
       "99         worm     0         0     1     0         0        0         0   \n",
       "100        wren     0         1     1     0         1        0         0   \n",
       "\n",
       "     toothed  backbone  breathes  venomous  fins  legs  tail  domestic  \\\n",
       "0          1         1         1         0     0     4     0         0   \n",
       "1          1         1         1         0     0     4     1         0   \n",
       "2          1         1         0         0     1     0     1         0   \n",
       "3          1         1         1         0     0     4     0         0   \n",
       "4          1         1         1         0     0     4     1         0   \n",
       "..       ...       ...       ...       ...   ...   ...   ...       ...   \n",
       "96         1         1         1         0     0     2     1         0   \n",
       "97         0         0         1         1     0     6     0         0   \n",
       "98         1         1         1         0     0     4     1         0   \n",
       "99         0         0         1         0     0     0     0         0   \n",
       "100        0         1         1         0     0     2     1         0   \n",
       "\n",
       "     catsize  class_type  \n",
       "0          1           1  \n",
       "1          1           1  \n",
       "2          0           4  \n",
       "3          1           1  \n",
       "4          1           1  \n",
       "..       ...         ...  \n",
       "96         1           1  \n",
       "97         0           6  \n",
       "98         1           1  \n",
       "99         0           7  \n",
       "100        0           2  \n",
       "\n",
       "[101 rows x 18 columns]"
      ]
     },
     "execution_count": 4,
     "metadata": {},
     "output_type": "execute_result"
    }
   ],
   "source": [
    "data"
   ]
  },
  {
   "cell_type": "code",
   "execution_count": 5,
   "metadata": {},
   "outputs": [
    {
     "name": "stdout",
     "output_type": "stream",
     "text": [
      "    animal_name  hair  feathers  eggs  milk  airborne  aquatic  predator  \\\n",
      "0      aardvark     1         0     0     1         0        0         1   \n",
      "1      antelope     1         0     0     1         0        0         0   \n",
      "2          bass     0         0     1     0         0        1         1   \n",
      "3          bear     1         0     0     1         0        0         1   \n",
      "4          boar     1         0     0     1         0        0         1   \n",
      "..          ...   ...       ...   ...   ...       ...      ...       ...   \n",
      "96      wallaby     1         0     0     1         0        0         0   \n",
      "97         wasp     1         0     1     0         1        0         0   \n",
      "98         wolf     1         0     0     1         0        0         1   \n",
      "99         worm     0         0     1     0         0        0         0   \n",
      "100        wren     0         1     1     0         1        0         0   \n",
      "\n",
      "     toothed  backbone  breathes  venomous  fins  legs  tail  domestic  \\\n",
      "0          1         1         1         0     0     4     0         0   \n",
      "1          1         1         1         0     0     4     1         0   \n",
      "2          1         1         0         0     1     0     1         0   \n",
      "3          1         1         1         0     0     4     0         0   \n",
      "4          1         1         1         0     0     4     1         0   \n",
      "..       ...       ...       ...       ...   ...   ...   ...       ...   \n",
      "96         1         1         1         0     0     2     1         0   \n",
      "97         0         0         1         1     0     6     0         0   \n",
      "98         1         1         1         0     0     4     1         0   \n",
      "99         0         0         1         0     0     0     0         0   \n",
      "100        0         1         1         0     0     2     1         0   \n",
      "\n",
      "     catsize  class_type  \n",
      "0          1           1  \n",
      "1          1           1  \n",
      "2          0           4  \n",
      "3          1           1  \n",
      "4          1           1  \n",
      "..       ...         ...  \n",
      "96         1           1  \n",
      "97         0           6  \n",
      "98         1           1  \n",
      "99         0           7  \n",
      "100        0           2  \n",
      "\n",
      "[101 rows x 18 columns]\n"
     ]
    }
   ],
   "source": [
    "print(data)"
   ]
  },
  {
   "cell_type": "code",
   "execution_count": 6,
   "metadata": {},
   "outputs": [
    {
     "data": {
      "text/html": [
       "<div>\n",
       "<style scoped>\n",
       "    .dataframe tbody tr th:only-of-type {\n",
       "        vertical-align: middle;\n",
       "    }\n",
       "\n",
       "    .dataframe tbody tr th {\n",
       "        vertical-align: top;\n",
       "    }\n",
       "\n",
       "    .dataframe thead th {\n",
       "        text-align: right;\n",
       "    }\n",
       "</style>\n",
       "<table border=\"1\" class=\"dataframe\">\n",
       "  <thead>\n",
       "    <tr style=\"text-align: right;\">\n",
       "      <th></th>\n",
       "      <th>animal_name</th>\n",
       "      <th>hair</th>\n",
       "      <th>feathers</th>\n",
       "      <th>eggs</th>\n",
       "      <th>milk</th>\n",
       "      <th>airborne</th>\n",
       "      <th>aquatic</th>\n",
       "      <th>predator</th>\n",
       "      <th>toothed</th>\n",
       "      <th>backbone</th>\n",
       "      <th>breathes</th>\n",
       "      <th>venomous</th>\n",
       "      <th>fins</th>\n",
       "      <th>legs</th>\n",
       "      <th>tail</th>\n",
       "      <th>domestic</th>\n",
       "      <th>catsize</th>\n",
       "      <th>class_type</th>\n",
       "    </tr>\n",
       "  </thead>\n",
       "  <tbody>\n",
       "    <tr>\n",
       "      <th>0</th>\n",
       "      <td>aardvark</td>\n",
       "      <td>1</td>\n",
       "      <td>0</td>\n",
       "      <td>0</td>\n",
       "      <td>1</td>\n",
       "      <td>0</td>\n",
       "      <td>0</td>\n",
       "      <td>1</td>\n",
       "      <td>1</td>\n",
       "      <td>1</td>\n",
       "      <td>1</td>\n",
       "      <td>0</td>\n",
       "      <td>0</td>\n",
       "      <td>4</td>\n",
       "      <td>0</td>\n",
       "      <td>0</td>\n",
       "      <td>1</td>\n",
       "      <td>1</td>\n",
       "    </tr>\n",
       "    <tr>\n",
       "      <th>1</th>\n",
       "      <td>antelope</td>\n",
       "      <td>1</td>\n",
       "      <td>0</td>\n",
       "      <td>0</td>\n",
       "      <td>1</td>\n",
       "      <td>0</td>\n",
       "      <td>0</td>\n",
       "      <td>0</td>\n",
       "      <td>1</td>\n",
       "      <td>1</td>\n",
       "      <td>1</td>\n",
       "      <td>0</td>\n",
       "      <td>0</td>\n",
       "      <td>4</td>\n",
       "      <td>1</td>\n",
       "      <td>0</td>\n",
       "      <td>1</td>\n",
       "      <td>1</td>\n",
       "    </tr>\n",
       "    <tr>\n",
       "      <th>2</th>\n",
       "      <td>bass</td>\n",
       "      <td>0</td>\n",
       "      <td>0</td>\n",
       "      <td>1</td>\n",
       "      <td>0</td>\n",
       "      <td>0</td>\n",
       "      <td>1</td>\n",
       "      <td>1</td>\n",
       "      <td>1</td>\n",
       "      <td>1</td>\n",
       "      <td>0</td>\n",
       "      <td>0</td>\n",
       "      <td>1</td>\n",
       "      <td>0</td>\n",
       "      <td>1</td>\n",
       "      <td>0</td>\n",
       "      <td>0</td>\n",
       "      <td>4</td>\n",
       "    </tr>\n",
       "    <tr>\n",
       "      <th>3</th>\n",
       "      <td>bear</td>\n",
       "      <td>1</td>\n",
       "      <td>0</td>\n",
       "      <td>0</td>\n",
       "      <td>1</td>\n",
       "      <td>0</td>\n",
       "      <td>0</td>\n",
       "      <td>1</td>\n",
       "      <td>1</td>\n",
       "      <td>1</td>\n",
       "      <td>1</td>\n",
       "      <td>0</td>\n",
       "      <td>0</td>\n",
       "      <td>4</td>\n",
       "      <td>0</td>\n",
       "      <td>0</td>\n",
       "      <td>1</td>\n",
       "      <td>1</td>\n",
       "    </tr>\n",
       "    <tr>\n",
       "      <th>4</th>\n",
       "      <td>boar</td>\n",
       "      <td>1</td>\n",
       "      <td>0</td>\n",
       "      <td>0</td>\n",
       "      <td>1</td>\n",
       "      <td>0</td>\n",
       "      <td>0</td>\n",
       "      <td>1</td>\n",
       "      <td>1</td>\n",
       "      <td>1</td>\n",
       "      <td>1</td>\n",
       "      <td>0</td>\n",
       "      <td>0</td>\n",
       "      <td>4</td>\n",
       "      <td>1</td>\n",
       "      <td>0</td>\n",
       "      <td>1</td>\n",
       "      <td>1</td>\n",
       "    </tr>\n",
       "  </tbody>\n",
       "</table>\n",
       "</div>"
      ],
      "text/plain": [
       "  animal_name  hair  feathers  eggs  milk  airborne  aquatic  predator  \\\n",
       "0    aardvark     1         0     0     1         0        0         1   \n",
       "1    antelope     1         0     0     1         0        0         0   \n",
       "2        bass     0         0     1     0         0        1         1   \n",
       "3        bear     1         0     0     1         0        0         1   \n",
       "4        boar     1         0     0     1         0        0         1   \n",
       "\n",
       "   toothed  backbone  breathes  venomous  fins  legs  tail  domestic  catsize  \\\n",
       "0        1         1         1         0     0     4     0         0        1   \n",
       "1        1         1         1         0     0     4     1         0        1   \n",
       "2        1         1         0         0     1     0     1         0        0   \n",
       "3        1         1         1         0     0     4     0         0        1   \n",
       "4        1         1         1         0     0     4     1         0        1   \n",
       "\n",
       "   class_type  \n",
       "0           1  \n",
       "1           1  \n",
       "2           4  \n",
       "3           1  \n",
       "4           1  "
      ]
     },
     "execution_count": 6,
     "metadata": {},
     "output_type": "execute_result"
    }
   ],
   "source": [
    "data.head()"
   ]
  },
  {
   "cell_type": "code",
   "execution_count": 7,
   "metadata": {},
   "outputs": [
    {
     "data": {
      "text/html": [
       "<div>\n",
       "<style scoped>\n",
       "    .dataframe tbody tr th:only-of-type {\n",
       "        vertical-align: middle;\n",
       "    }\n",
       "\n",
       "    .dataframe tbody tr th {\n",
       "        vertical-align: top;\n",
       "    }\n",
       "\n",
       "    .dataframe thead th {\n",
       "        text-align: right;\n",
       "    }\n",
       "</style>\n",
       "<table border=\"1\" class=\"dataframe\">\n",
       "  <thead>\n",
       "    <tr style=\"text-align: right;\">\n",
       "      <th></th>\n",
       "      <th>animal_name</th>\n",
       "      <th>hair</th>\n",
       "      <th>feathers</th>\n",
       "      <th>eggs</th>\n",
       "      <th>milk</th>\n",
       "      <th>airborne</th>\n",
       "      <th>aquatic</th>\n",
       "      <th>predator</th>\n",
       "      <th>toothed</th>\n",
       "      <th>backbone</th>\n",
       "      <th>breathes</th>\n",
       "      <th>venomous</th>\n",
       "      <th>fins</th>\n",
       "      <th>legs</th>\n",
       "      <th>tail</th>\n",
       "      <th>domestic</th>\n",
       "      <th>catsize</th>\n",
       "      <th>class_type</th>\n",
       "    </tr>\n",
       "  </thead>\n",
       "  <tbody>\n",
       "    <tr>\n",
       "      <th>96</th>\n",
       "      <td>wallaby</td>\n",
       "      <td>1</td>\n",
       "      <td>0</td>\n",
       "      <td>0</td>\n",
       "      <td>1</td>\n",
       "      <td>0</td>\n",
       "      <td>0</td>\n",
       "      <td>0</td>\n",
       "      <td>1</td>\n",
       "      <td>1</td>\n",
       "      <td>1</td>\n",
       "      <td>0</td>\n",
       "      <td>0</td>\n",
       "      <td>2</td>\n",
       "      <td>1</td>\n",
       "      <td>0</td>\n",
       "      <td>1</td>\n",
       "      <td>1</td>\n",
       "    </tr>\n",
       "    <tr>\n",
       "      <th>97</th>\n",
       "      <td>wasp</td>\n",
       "      <td>1</td>\n",
       "      <td>0</td>\n",
       "      <td>1</td>\n",
       "      <td>0</td>\n",
       "      <td>1</td>\n",
       "      <td>0</td>\n",
       "      <td>0</td>\n",
       "      <td>0</td>\n",
       "      <td>0</td>\n",
       "      <td>1</td>\n",
       "      <td>1</td>\n",
       "      <td>0</td>\n",
       "      <td>6</td>\n",
       "      <td>0</td>\n",
       "      <td>0</td>\n",
       "      <td>0</td>\n",
       "      <td>6</td>\n",
       "    </tr>\n",
       "    <tr>\n",
       "      <th>98</th>\n",
       "      <td>wolf</td>\n",
       "      <td>1</td>\n",
       "      <td>0</td>\n",
       "      <td>0</td>\n",
       "      <td>1</td>\n",
       "      <td>0</td>\n",
       "      <td>0</td>\n",
       "      <td>1</td>\n",
       "      <td>1</td>\n",
       "      <td>1</td>\n",
       "      <td>1</td>\n",
       "      <td>0</td>\n",
       "      <td>0</td>\n",
       "      <td>4</td>\n",
       "      <td>1</td>\n",
       "      <td>0</td>\n",
       "      <td>1</td>\n",
       "      <td>1</td>\n",
       "    </tr>\n",
       "    <tr>\n",
       "      <th>99</th>\n",
       "      <td>worm</td>\n",
       "      <td>0</td>\n",
       "      <td>0</td>\n",
       "      <td>1</td>\n",
       "      <td>0</td>\n",
       "      <td>0</td>\n",
       "      <td>0</td>\n",
       "      <td>0</td>\n",
       "      <td>0</td>\n",
       "      <td>0</td>\n",
       "      <td>1</td>\n",
       "      <td>0</td>\n",
       "      <td>0</td>\n",
       "      <td>0</td>\n",
       "      <td>0</td>\n",
       "      <td>0</td>\n",
       "      <td>0</td>\n",
       "      <td>7</td>\n",
       "    </tr>\n",
       "    <tr>\n",
       "      <th>100</th>\n",
       "      <td>wren</td>\n",
       "      <td>0</td>\n",
       "      <td>1</td>\n",
       "      <td>1</td>\n",
       "      <td>0</td>\n",
       "      <td>1</td>\n",
       "      <td>0</td>\n",
       "      <td>0</td>\n",
       "      <td>0</td>\n",
       "      <td>1</td>\n",
       "      <td>1</td>\n",
       "      <td>0</td>\n",
       "      <td>0</td>\n",
       "      <td>2</td>\n",
       "      <td>1</td>\n",
       "      <td>0</td>\n",
       "      <td>0</td>\n",
       "      <td>2</td>\n",
       "    </tr>\n",
       "  </tbody>\n",
       "</table>\n",
       "</div>"
      ],
      "text/plain": [
       "    animal_name  hair  feathers  eggs  milk  airborne  aquatic  predator  \\\n",
       "96      wallaby     1         0     0     1         0        0         0   \n",
       "97         wasp     1         0     1     0         1        0         0   \n",
       "98         wolf     1         0     0     1         0        0         1   \n",
       "99         worm     0         0     1     0         0        0         0   \n",
       "100        wren     0         1     1     0         1        0         0   \n",
       "\n",
       "     toothed  backbone  breathes  venomous  fins  legs  tail  domestic  \\\n",
       "96         1         1         1         0     0     2     1         0   \n",
       "97         0         0         1         1     0     6     0         0   \n",
       "98         1         1         1         0     0     4     1         0   \n",
       "99         0         0         1         0     0     0     0         0   \n",
       "100        0         1         1         0     0     2     1         0   \n",
       "\n",
       "     catsize  class_type  \n",
       "96         1           1  \n",
       "97         0           6  \n",
       "98         1           1  \n",
       "99         0           7  \n",
       "100        0           2  "
      ]
     },
     "execution_count": 7,
     "metadata": {},
     "output_type": "execute_result"
    }
   ],
   "source": [
    "data.tail()"
   ]
  },
  {
   "cell_type": "markdown",
   "metadata": {},
   "source": [
    " - `animal_name` – Name of the individual\n",
    " - `hair` – Boolean, animal has hair\n",
    " - `feathers` - Boolean, animal has feathers\n",
    " - `eggs` – Boolean, animal has eggs\n",
    " - `milk` – Boolean, has milk\n",
    " - `airborne` – Boolean, is airborne\n",
    " - `aquatic` – Boolean, is aquatic\n",
    " - `predator` – Boolean, is predator\n",
    " - `toothed` – Boolean, is toothed\n",
    " - `backbone` – Boolean, has backbone\n",
    " - `breathes` – Boolean, is breathing\n",
    " - `venomous` – Boolean, is venomous\n",
    " - `fins` – Boolean, has fins\n",
    " - `legs` – Numeric (set of values: {0,2,4,5,6,8}), number of legs\n",
    " - `tail` – Boolean, has tail\n",
    " - `domestic` – Boolean, is domestic\n",
    " - `catsize` – Boolean, is catsize\n",
    " - `class_type` – Numeric (integer values in range [1,7]), class number.\n",
    "\n",
    "Prediction task is to determine whether class type of an animal. \n"
   ]
  },
  {
   "cell_type": "code",
   "execution_count": 8,
   "metadata": {},
   "outputs": [
    {
     "name": "stdout",
     "output_type": "stream",
     "text": [
      "(101, 18)\n",
      "Index(['animal_name', 'hair', 'feathers', 'eggs', 'milk', 'airborne',\n",
      "       'aquatic', 'predator', 'toothed', 'backbone', 'breathes', 'venomous',\n",
      "       'fins', 'legs', 'tail', 'domestic', 'catsize', 'class_type'],\n",
      "      dtype='object')\n"
     ]
    }
   ],
   "source": [
    "print(data.shape)\n",
    "print(data.columns)"
   ]
  },
  {
   "cell_type": "code",
   "execution_count": 9,
   "metadata": {},
   "outputs": [
    {
     "data": {
      "text/plain": [
       "RangeIndex(start=0, stop=101, step=1)"
      ]
     },
     "execution_count": 9,
     "metadata": {},
     "output_type": "execute_result"
    }
   ],
   "source": [
    "data.index"
   ]
  },
  {
   "cell_type": "code",
   "execution_count": 10,
   "metadata": {},
   "outputs": [
    {
     "data": {
      "text/plain": [
       "'bass'"
      ]
     },
     "execution_count": 10,
     "metadata": {},
     "output_type": "execute_result"
    }
   ],
   "source": [
    "data.at[2, 'animal_name']"
   ]
  },
  {
   "cell_type": "code",
   "execution_count": 11,
   "metadata": {},
   "outputs": [
    {
     "data": {
      "text/plain": [
       "0      aardvark\n",
       "1      antelope\n",
       "2          bass\n",
       "3          bear\n",
       "4          boar\n",
       "         ...   \n",
       "96      wallaby\n",
       "97         wasp\n",
       "98         wolf\n",
       "99         worm\n",
       "100        wren\n",
       "Name: animal_name, Length: 101, dtype: object"
      ]
     },
     "execution_count": 11,
     "metadata": {},
     "output_type": "execute_result"
    }
   ],
   "source": [
    "data['animal_name']"
   ]
  },
  {
   "cell_type": "code",
   "execution_count": 12,
   "metadata": {},
   "outputs": [
    {
     "data": {
      "text/plain": [
       "'bear'"
      ]
     },
     "execution_count": 12,
     "metadata": {},
     "output_type": "execute_result"
    }
   ],
   "source": [
    "data['animal_name'][3]"
   ]
  },
  {
   "cell_type": "code",
   "execution_count": 13,
   "metadata": {},
   "outputs": [
    {
     "data": {
      "text/plain": [
       "'object'"
      ]
     },
     "execution_count": 13,
     "metadata": {},
     "output_type": "execute_result"
    }
   ],
   "source": [
    "data['animal_name'].dtype.name"
   ]
  },
  {
   "cell_type": "code",
   "execution_count": 14,
   "metadata": {},
   "outputs": [
    {
     "data": {
      "text/plain": [
       "str"
      ]
     },
     "execution_count": 14,
     "metadata": {},
     "output_type": "execute_result"
    }
   ],
   "source": [
    "type(data['animal_name'][3])"
   ]
  },
  {
   "cell_type": "code",
   "execution_count": 15,
   "metadata": {},
   "outputs": [
    {
     "data": {
      "text/plain": [
       "pandas.core.series.Series"
      ]
     },
     "execution_count": 15,
     "metadata": {},
     "output_type": "execute_result"
    }
   ],
   "source": [
    "type(data['animal_name'])"
   ]
  },
  {
   "cell_type": "code",
   "execution_count": 16,
   "metadata": {},
   "outputs": [
    {
     "data": {
      "text/html": [
       "<div>\n",
       "<style scoped>\n",
       "    .dataframe tbody tr th:only-of-type {\n",
       "        vertical-align: middle;\n",
       "    }\n",
       "\n",
       "    .dataframe tbody tr th {\n",
       "        vertical-align: top;\n",
       "    }\n",
       "\n",
       "    .dataframe thead th {\n",
       "        text-align: right;\n",
       "    }\n",
       "</style>\n",
       "<table border=\"1\" class=\"dataframe\">\n",
       "  <thead>\n",
       "    <tr style=\"text-align: right;\">\n",
       "      <th></th>\n",
       "      <th>animal_name</th>\n",
       "      <th>legs</th>\n",
       "    </tr>\n",
       "  </thead>\n",
       "  <tbody>\n",
       "    <tr>\n",
       "      <th>0</th>\n",
       "      <td>aardvark</td>\n",
       "      <td>4</td>\n",
       "    </tr>\n",
       "    <tr>\n",
       "      <th>1</th>\n",
       "      <td>antelope</td>\n",
       "      <td>4</td>\n",
       "    </tr>\n",
       "    <tr>\n",
       "      <th>2</th>\n",
       "      <td>bass</td>\n",
       "      <td>0</td>\n",
       "    </tr>\n",
       "    <tr>\n",
       "      <th>3</th>\n",
       "      <td>bear</td>\n",
       "      <td>4</td>\n",
       "    </tr>\n",
       "    <tr>\n",
       "      <th>4</th>\n",
       "      <td>boar</td>\n",
       "      <td>4</td>\n",
       "    </tr>\n",
       "  </tbody>\n",
       "</table>\n",
       "</div>"
      ],
      "text/plain": [
       "  animal_name  legs\n",
       "0    aardvark     4\n",
       "1    antelope     4\n",
       "2        bass     0\n",
       "3        bear     4\n",
       "4        boar     4"
      ]
     },
     "execution_count": 16,
     "metadata": {},
     "output_type": "execute_result"
    }
   ],
   "source": [
    "data[['animal_name', 'legs']].head()"
   ]
  },
  {
   "cell_type": "code",
   "execution_count": 17,
   "metadata": {},
   "outputs": [
    {
     "data": {
      "text/html": [
       "<div>\n",
       "<style scoped>\n",
       "    .dataframe tbody tr th:only-of-type {\n",
       "        vertical-align: middle;\n",
       "    }\n",
       "\n",
       "    .dataframe tbody tr th {\n",
       "        vertical-align: top;\n",
       "    }\n",
       "\n",
       "    .dataframe thead th {\n",
       "        text-align: right;\n",
       "    }\n",
       "</style>\n",
       "<table border=\"1\" class=\"dataframe\">\n",
       "  <thead>\n",
       "    <tr style=\"text-align: right;\">\n",
       "      <th></th>\n",
       "      <th>hair</th>\n",
       "      <th>feathers</th>\n",
       "      <th>eggs</th>\n",
       "      <th>milk</th>\n",
       "      <th>airborne</th>\n",
       "      <th>aquatic</th>\n",
       "      <th>predator</th>\n",
       "      <th>toothed</th>\n",
       "      <th>backbone</th>\n",
       "      <th>breathes</th>\n",
       "      <th>venomous</th>\n",
       "      <th>fins</th>\n",
       "      <th>legs</th>\n",
       "      <th>tail</th>\n",
       "      <th>domestic</th>\n",
       "      <th>catsize</th>\n",
       "      <th>class_type</th>\n",
       "    </tr>\n",
       "  </thead>\n",
       "  <tbody>\n",
       "    <tr>\n",
       "      <th>count</th>\n",
       "      <td>101.000000</td>\n",
       "      <td>101.000000</td>\n",
       "      <td>101.000000</td>\n",
       "      <td>101.000000</td>\n",
       "      <td>101.000000</td>\n",
       "      <td>101.000000</td>\n",
       "      <td>101.000000</td>\n",
       "      <td>101.000000</td>\n",
       "      <td>101.000000</td>\n",
       "      <td>101.000000</td>\n",
       "      <td>101.000000</td>\n",
       "      <td>101.000000</td>\n",
       "      <td>101.000000</td>\n",
       "      <td>101.000000</td>\n",
       "      <td>101.000000</td>\n",
       "      <td>101.000000</td>\n",
       "      <td>101.000000</td>\n",
       "    </tr>\n",
       "    <tr>\n",
       "      <th>mean</th>\n",
       "      <td>0.425743</td>\n",
       "      <td>0.198020</td>\n",
       "      <td>0.584158</td>\n",
       "      <td>0.405941</td>\n",
       "      <td>0.237624</td>\n",
       "      <td>0.356436</td>\n",
       "      <td>0.554455</td>\n",
       "      <td>0.603960</td>\n",
       "      <td>0.821782</td>\n",
       "      <td>0.792079</td>\n",
       "      <td>0.079208</td>\n",
       "      <td>0.168317</td>\n",
       "      <td>2.841584</td>\n",
       "      <td>0.742574</td>\n",
       "      <td>0.128713</td>\n",
       "      <td>0.435644</td>\n",
       "      <td>2.831683</td>\n",
       "    </tr>\n",
       "    <tr>\n",
       "      <th>std</th>\n",
       "      <td>0.496921</td>\n",
       "      <td>0.400495</td>\n",
       "      <td>0.495325</td>\n",
       "      <td>0.493522</td>\n",
       "      <td>0.427750</td>\n",
       "      <td>0.481335</td>\n",
       "      <td>0.499505</td>\n",
       "      <td>0.491512</td>\n",
       "      <td>0.384605</td>\n",
       "      <td>0.407844</td>\n",
       "      <td>0.271410</td>\n",
       "      <td>0.376013</td>\n",
       "      <td>2.033385</td>\n",
       "      <td>0.439397</td>\n",
       "      <td>0.336552</td>\n",
       "      <td>0.498314</td>\n",
       "      <td>2.102709</td>\n",
       "    </tr>\n",
       "    <tr>\n",
       "      <th>min</th>\n",
       "      <td>0.000000</td>\n",
       "      <td>0.000000</td>\n",
       "      <td>0.000000</td>\n",
       "      <td>0.000000</td>\n",
       "      <td>0.000000</td>\n",
       "      <td>0.000000</td>\n",
       "      <td>0.000000</td>\n",
       "      <td>0.000000</td>\n",
       "      <td>0.000000</td>\n",
       "      <td>0.000000</td>\n",
       "      <td>0.000000</td>\n",
       "      <td>0.000000</td>\n",
       "      <td>0.000000</td>\n",
       "      <td>0.000000</td>\n",
       "      <td>0.000000</td>\n",
       "      <td>0.000000</td>\n",
       "      <td>1.000000</td>\n",
       "    </tr>\n",
       "    <tr>\n",
       "      <th>25%</th>\n",
       "      <td>0.000000</td>\n",
       "      <td>0.000000</td>\n",
       "      <td>0.000000</td>\n",
       "      <td>0.000000</td>\n",
       "      <td>0.000000</td>\n",
       "      <td>0.000000</td>\n",
       "      <td>0.000000</td>\n",
       "      <td>0.000000</td>\n",
       "      <td>1.000000</td>\n",
       "      <td>1.000000</td>\n",
       "      <td>0.000000</td>\n",
       "      <td>0.000000</td>\n",
       "      <td>2.000000</td>\n",
       "      <td>0.000000</td>\n",
       "      <td>0.000000</td>\n",
       "      <td>0.000000</td>\n",
       "      <td>1.000000</td>\n",
       "    </tr>\n",
       "    <tr>\n",
       "      <th>50%</th>\n",
       "      <td>0.000000</td>\n",
       "      <td>0.000000</td>\n",
       "      <td>1.000000</td>\n",
       "      <td>0.000000</td>\n",
       "      <td>0.000000</td>\n",
       "      <td>0.000000</td>\n",
       "      <td>1.000000</td>\n",
       "      <td>1.000000</td>\n",
       "      <td>1.000000</td>\n",
       "      <td>1.000000</td>\n",
       "      <td>0.000000</td>\n",
       "      <td>0.000000</td>\n",
       "      <td>4.000000</td>\n",
       "      <td>1.000000</td>\n",
       "      <td>0.000000</td>\n",
       "      <td>0.000000</td>\n",
       "      <td>2.000000</td>\n",
       "    </tr>\n",
       "    <tr>\n",
       "      <th>75%</th>\n",
       "      <td>1.000000</td>\n",
       "      <td>0.000000</td>\n",
       "      <td>1.000000</td>\n",
       "      <td>1.000000</td>\n",
       "      <td>0.000000</td>\n",
       "      <td>1.000000</td>\n",
       "      <td>1.000000</td>\n",
       "      <td>1.000000</td>\n",
       "      <td>1.000000</td>\n",
       "      <td>1.000000</td>\n",
       "      <td>0.000000</td>\n",
       "      <td>0.000000</td>\n",
       "      <td>4.000000</td>\n",
       "      <td>1.000000</td>\n",
       "      <td>0.000000</td>\n",
       "      <td>1.000000</td>\n",
       "      <td>4.000000</td>\n",
       "    </tr>\n",
       "    <tr>\n",
       "      <th>max</th>\n",
       "      <td>1.000000</td>\n",
       "      <td>1.000000</td>\n",
       "      <td>1.000000</td>\n",
       "      <td>1.000000</td>\n",
       "      <td>1.000000</td>\n",
       "      <td>1.000000</td>\n",
       "      <td>1.000000</td>\n",
       "      <td>1.000000</td>\n",
       "      <td>1.000000</td>\n",
       "      <td>1.000000</td>\n",
       "      <td>1.000000</td>\n",
       "      <td>1.000000</td>\n",
       "      <td>8.000000</td>\n",
       "      <td>1.000000</td>\n",
       "      <td>1.000000</td>\n",
       "      <td>1.000000</td>\n",
       "      <td>7.000000</td>\n",
       "    </tr>\n",
       "  </tbody>\n",
       "</table>\n",
       "</div>"
      ],
      "text/plain": [
       "             hair    feathers        eggs        milk    airborne     aquatic  \\\n",
       "count  101.000000  101.000000  101.000000  101.000000  101.000000  101.000000   \n",
       "mean     0.425743    0.198020    0.584158    0.405941    0.237624    0.356436   \n",
       "std      0.496921    0.400495    0.495325    0.493522    0.427750    0.481335   \n",
       "min      0.000000    0.000000    0.000000    0.000000    0.000000    0.000000   \n",
       "25%      0.000000    0.000000    0.000000    0.000000    0.000000    0.000000   \n",
       "50%      0.000000    0.000000    1.000000    0.000000    0.000000    0.000000   \n",
       "75%      1.000000    0.000000    1.000000    1.000000    0.000000    1.000000   \n",
       "max      1.000000    1.000000    1.000000    1.000000    1.000000    1.000000   \n",
       "\n",
       "         predator     toothed    backbone    breathes    venomous        fins  \\\n",
       "count  101.000000  101.000000  101.000000  101.000000  101.000000  101.000000   \n",
       "mean     0.554455    0.603960    0.821782    0.792079    0.079208    0.168317   \n",
       "std      0.499505    0.491512    0.384605    0.407844    0.271410    0.376013   \n",
       "min      0.000000    0.000000    0.000000    0.000000    0.000000    0.000000   \n",
       "25%      0.000000    0.000000    1.000000    1.000000    0.000000    0.000000   \n",
       "50%      1.000000    1.000000    1.000000    1.000000    0.000000    0.000000   \n",
       "75%      1.000000    1.000000    1.000000    1.000000    0.000000    0.000000   \n",
       "max      1.000000    1.000000    1.000000    1.000000    1.000000    1.000000   \n",
       "\n",
       "             legs        tail    domestic     catsize  class_type  \n",
       "count  101.000000  101.000000  101.000000  101.000000  101.000000  \n",
       "mean     2.841584    0.742574    0.128713    0.435644    2.831683  \n",
       "std      2.033385    0.439397    0.336552    0.498314    2.102709  \n",
       "min      0.000000    0.000000    0.000000    0.000000    1.000000  \n",
       "25%      2.000000    0.000000    0.000000    0.000000    1.000000  \n",
       "50%      4.000000    1.000000    0.000000    0.000000    2.000000  \n",
       "75%      4.000000    1.000000    0.000000    1.000000    4.000000  \n",
       "max      8.000000    1.000000    1.000000    1.000000    7.000000  "
      ]
     },
     "execution_count": 17,
     "metadata": {},
     "output_type": "execute_result"
    }
   ],
   "source": [
    "data.describe()  # посмотрим характеристику (описание) датасета"
   ]
  },
  {
   "cell_type": "code",
   "execution_count": 18,
   "metadata": {},
   "outputs": [
    {
     "data": {
      "text/plain": [
       "array([[<matplotlib.axes._subplots.AxesSubplot object at 0x0000019A36331748>,\n",
       "        <matplotlib.axes._subplots.AxesSubplot object at 0x0000019A383C0EF0>,\n",
       "        <matplotlib.axes._subplots.AxesSubplot object at 0x0000019A383FF080>,\n",
       "        <matplotlib.axes._subplots.AxesSubplot object at 0x0000019A384313C8>,\n",
       "        <matplotlib.axes._subplots.AxesSubplot object at 0x0000019A38460978>,\n",
       "        <matplotlib.axes._subplots.AxesSubplot object at 0x0000019A38493F28>,\n",
       "        <matplotlib.axes._subplots.AxesSubplot object at 0x0000019A384CF518>,\n",
       "        <matplotlib.axes._subplots.AxesSubplot object at 0x0000019A38501B00>,\n",
       "        <matplotlib.axes._subplots.AxesSubplot object at 0x0000019A38501B38>,\n",
       "        <matplotlib.axes._subplots.AxesSubplot object at 0x0000019A3856C5F8>,\n",
       "        <matplotlib.axes._subplots.AxesSubplot object at 0x0000019A3859FBA8>,\n",
       "        <matplotlib.axes._subplots.AxesSubplot object at 0x0000019A385DC198>,\n",
       "        <matplotlib.axes._subplots.AxesSubplot object at 0x0000019A3860A748>,\n",
       "        <matplotlib.axes._subplots.AxesSubplot object at 0x0000019A3863DCF8>,\n",
       "        <matplotlib.axes._subplots.AxesSubplot object at 0x0000019A386792E8>,\n",
       "        <matplotlib.axes._subplots.AxesSubplot object at 0x0000019A386A9898>,\n",
       "        <matplotlib.axes._subplots.AxesSubplot object at 0x0000019A386DAE48>],\n",
       "       [<matplotlib.axes._subplots.AxesSubplot object at 0x0000019A38718438>,\n",
       "        <matplotlib.axes._subplots.AxesSubplot object at 0x0000019A387499E8>,\n",
       "        <matplotlib.axes._subplots.AxesSubplot object at 0x0000019A3877AF98>,\n",
       "        <matplotlib.axes._subplots.AxesSubplot object at 0x0000019A387B6588>,\n",
       "        <matplotlib.axes._subplots.AxesSubplot object at 0x0000019A387E7B38>,\n",
       "        <matplotlib.axes._subplots.AxesSubplot object at 0x0000019A38824128>,\n",
       "        <matplotlib.axes._subplots.AxesSubplot object at 0x0000019A388576D8>,\n",
       "        <matplotlib.axes._subplots.AxesSubplot object at 0x0000019A38887C88>,\n",
       "        <matplotlib.axes._subplots.AxesSubplot object at 0x0000019A388C5278>,\n",
       "        <matplotlib.axes._subplots.AxesSubplot object at 0x0000019A388F3828>,\n",
       "        <matplotlib.axes._subplots.AxesSubplot object at 0x0000019A38926DD8>,\n",
       "        <matplotlib.axes._subplots.AxesSubplot object at 0x0000019A389623C8>,\n",
       "        <matplotlib.axes._subplots.AxesSubplot object at 0x0000019A38990978>,\n",
       "        <matplotlib.axes._subplots.AxesSubplot object at 0x0000019A389C5F28>,\n",
       "        <matplotlib.axes._subplots.AxesSubplot object at 0x0000019A389FE518>,\n",
       "        <matplotlib.axes._subplots.AxesSubplot object at 0x0000019A38A2FAC8>,\n",
       "        <matplotlib.axes._subplots.AxesSubplot object at 0x0000019A38A6E0B8>],\n",
       "       [<matplotlib.axes._subplots.AxesSubplot object at 0x0000019A38A9D668>,\n",
       "        <matplotlib.axes._subplots.AxesSubplot object at 0x0000019A38ACFC18>,\n",
       "        <matplotlib.axes._subplots.AxesSubplot object at 0x0000019A38B0E208>,\n",
       "        <matplotlib.axes._subplots.AxesSubplot object at 0x0000019A38B3D7B8>,\n",
       "        <matplotlib.axes._subplots.AxesSubplot object at 0x0000019A38B6CD68>,\n",
       "        <matplotlib.axes._subplots.AxesSubplot object at 0x0000019A38BAA358>,\n",
       "        <matplotlib.axes._subplots.AxesSubplot object at 0x0000019A38BDB908>,\n",
       "        <matplotlib.axes._subplots.AxesSubplot object at 0x0000019A38C0CEB8>,\n",
       "        <matplotlib.axes._subplots.AxesSubplot object at 0x0000019A38C4A4A8>,\n",
       "        <matplotlib.axes._subplots.AxesSubplot object at 0x0000019A38C7BA58>,\n",
       "        <matplotlib.axes._subplots.AxesSubplot object at 0x0000019A38CB8048>,\n",
       "        <matplotlib.axes._subplots.AxesSubplot object at 0x0000019A38CE75F8>,\n",
       "        <matplotlib.axes._subplots.AxesSubplot object at 0x0000019A38D19BA8>,\n",
       "        <matplotlib.axes._subplots.AxesSubplot object at 0x0000019A38D57198>,\n",
       "        <matplotlib.axes._subplots.AxesSubplot object at 0x0000019A38D84748>,\n",
       "        <matplotlib.axes._subplots.AxesSubplot object at 0x0000019A38DB7CF8>,\n",
       "        <matplotlib.axes._subplots.AxesSubplot object at 0x0000019A38DF52E8>],\n",
       "       [<matplotlib.axes._subplots.AxesSubplot object at 0x0000019A38E24898>,\n",
       "        <matplotlib.axes._subplots.AxesSubplot object at 0x0000019A38E56E48>,\n",
       "        <matplotlib.axes._subplots.AxesSubplot object at 0x0000019A38E92438>,\n",
       "        <matplotlib.axes._subplots.AxesSubplot object at 0x0000019A38EC49E8>,\n",
       "        <matplotlib.axes._subplots.AxesSubplot object at 0x0000019A38EF4F98>,\n",
       "        <matplotlib.axes._subplots.AxesSubplot object at 0x0000019A38F32588>,\n",
       "        <matplotlib.axes._subplots.AxesSubplot object at 0x0000019A38F62B38>,\n",
       "        <matplotlib.axes._subplots.AxesSubplot object at 0x0000019A38F9E128>,\n",
       "        <matplotlib.axes._subplots.AxesSubplot object at 0x0000019A38FCE6D8>,\n",
       "        <matplotlib.axes._subplots.AxesSubplot object at 0x0000019A39000C88>,\n",
       "        <matplotlib.axes._subplots.AxesSubplot object at 0x0000019A3903D278>,\n",
       "        <matplotlib.axes._subplots.AxesSubplot object at 0x0000019A3906C828>,\n",
       "        <matplotlib.axes._subplots.AxesSubplot object at 0x0000019A3909FDD8>,\n",
       "        <matplotlib.axes._subplots.AxesSubplot object at 0x0000019A390DC3C8>,\n",
       "        <matplotlib.axes._subplots.AxesSubplot object at 0x0000019A3910A978>,\n",
       "        <matplotlib.axes._subplots.AxesSubplot object at 0x0000019A3913DF28>,\n",
       "        <matplotlib.axes._subplots.AxesSubplot object at 0x0000019A39179518>],\n",
       "       [<matplotlib.axes._subplots.AxesSubplot object at 0x0000019A391A7AC8>,\n",
       "        <matplotlib.axes._subplots.AxesSubplot object at 0x0000019A391E90B8>,\n",
       "        <matplotlib.axes._subplots.AxesSubplot object at 0x0000019A39218668>,\n",
       "        <matplotlib.axes._subplots.AxesSubplot object at 0x0000019A39249C18>,\n",
       "        <matplotlib.axes._subplots.AxesSubplot object at 0x0000019A39286208>,\n",
       "        <matplotlib.axes._subplots.AxesSubplot object at 0x0000019A392B77B8>,\n",
       "        <matplotlib.axes._subplots.AxesSubplot object at 0x0000019A3A2B6D68>,\n",
       "        <matplotlib.axes._subplots.AxesSubplot object at 0x0000019A3A2F4358>,\n",
       "        <matplotlib.axes._subplots.AxesSubplot object at 0x0000019A3A324908>,\n",
       "        <matplotlib.axes._subplots.AxesSubplot object at 0x0000019A3A357EB8>,\n",
       "        <matplotlib.axes._subplots.AxesSubplot object at 0x0000019A3A3924A8>,\n",
       "        <matplotlib.axes._subplots.AxesSubplot object at 0x0000019A3A3C4A58>,\n",
       "        <matplotlib.axes._subplots.AxesSubplot object at 0x0000019A3A405048>,\n",
       "        <matplotlib.axes._subplots.AxesSubplot object at 0x0000019A3A4305F8>,\n",
       "        <matplotlib.axes._subplots.AxesSubplot object at 0x0000019A3A462BA8>,\n",
       "        <matplotlib.axes._subplots.AxesSubplot object at 0x0000019A3A49E198>,\n",
       "        <matplotlib.axes._subplots.AxesSubplot object at 0x0000019A3A4CF748>],\n",
       "       [<matplotlib.axes._subplots.AxesSubplot object at 0x0000019A3A500CF8>,\n",
       "        <matplotlib.axes._subplots.AxesSubplot object at 0x0000019A3A53C2E8>,\n",
       "        <matplotlib.axes._subplots.AxesSubplot object at 0x0000019A3A56D898>,\n",
       "        <matplotlib.axes._subplots.AxesSubplot object at 0x0000019A3A59FE48>,\n",
       "        <matplotlib.axes._subplots.AxesSubplot object at 0x0000019A3A5DC438>,\n",
       "        <matplotlib.axes._subplots.AxesSubplot object at 0x0000019A3A60C9E8>,\n",
       "        <matplotlib.axes._subplots.AxesSubplot object at 0x0000019A3A63EF98>,\n",
       "        <matplotlib.axes._subplots.AxesSubplot object at 0x0000019A3A677588>,\n",
       "        <matplotlib.axes._subplots.AxesSubplot object at 0x0000019A3A6AAB38>,\n",
       "        <matplotlib.axes._subplots.AxesSubplot object at 0x0000019A3A6E9128>,\n",
       "        <matplotlib.axes._subplots.AxesSubplot object at 0x0000019A3A7176D8>,\n",
       "        <matplotlib.axes._subplots.AxesSubplot object at 0x0000019A3A749C88>,\n",
       "        <matplotlib.axes._subplots.AxesSubplot object at 0x0000019A3A787278>,\n",
       "        <matplotlib.axes._subplots.AxesSubplot object at 0x0000019A3A7B5828>,\n",
       "        <matplotlib.axes._subplots.AxesSubplot object at 0x0000019A3A7E9DD8>,\n",
       "        <matplotlib.axes._subplots.AxesSubplot object at 0x0000019A3A8243C8>,\n",
       "        <matplotlib.axes._subplots.AxesSubplot object at 0x0000019A3A855978>],\n",
       "       [<matplotlib.axes._subplots.AxesSubplot object at 0x0000019A3A887F28>,\n",
       "        <matplotlib.axes._subplots.AxesSubplot object at 0x0000019A3A8C2518>,\n",
       "        <matplotlib.axes._subplots.AxesSubplot object at 0x0000019A3A8F3AC8>,\n",
       "        <matplotlib.axes._subplots.AxesSubplot object at 0x0000019A3A9300B8>,\n",
       "        <matplotlib.axes._subplots.AxesSubplot object at 0x0000019A3A961668>,\n",
       "        <matplotlib.axes._subplots.AxesSubplot object at 0x0000019A3A992C18>,\n",
       "        <matplotlib.axes._subplots.AxesSubplot object at 0x0000019A3A9D0208>,\n",
       "        <matplotlib.axes._subplots.AxesSubplot object at 0x0000019A3A9FF7B8>,\n",
       "        <matplotlib.axes._subplots.AxesSubplot object at 0x0000019A3AA30D68>,\n",
       "        <matplotlib.axes._subplots.AxesSubplot object at 0x0000019A3AA6E358>,\n",
       "        <matplotlib.axes._subplots.AxesSubplot object at 0x0000019A3AA9D908>,\n",
       "        <matplotlib.axes._subplots.AxesSubplot object at 0x0000019A3AACFEB8>,\n",
       "        <matplotlib.axes._subplots.AxesSubplot object at 0x0000019A3AB094A8>,\n",
       "        <matplotlib.axes._subplots.AxesSubplot object at 0x0000019A3AB3CA58>,\n",
       "        <matplotlib.axes._subplots.AxesSubplot object at 0x0000019A3AB7C048>,\n",
       "        <matplotlib.axes._subplots.AxesSubplot object at 0x0000019A3ABAA5F8>,\n",
       "        <matplotlib.axes._subplots.AxesSubplot object at 0x0000019A3ABDABA8>],\n",
       "       [<matplotlib.axes._subplots.AxesSubplot object at 0x0000019A3AC18198>,\n",
       "        <matplotlib.axes._subplots.AxesSubplot object at 0x0000019A3AC47748>,\n",
       "        <matplotlib.axes._subplots.AxesSubplot object at 0x0000019A3AC79CF8>,\n",
       "        <matplotlib.axes._subplots.AxesSubplot object at 0x0000019A3ACB72E8>,\n",
       "        <matplotlib.axes._subplots.AxesSubplot object at 0x0000019A3ACE6898>,\n",
       "        <matplotlib.axes._subplots.AxesSubplot object at 0x0000019A3AD18E48>,\n",
       "        <matplotlib.axes._subplots.AxesSubplot object at 0x0000019A3AD56438>,\n",
       "        <matplotlib.axes._subplots.AxesSubplot object at 0x0000019A3AD869E8>,\n",
       "        <matplotlib.axes._subplots.AxesSubplot object at 0x0000019A3ADB8F98>,\n",
       "        <matplotlib.axes._subplots.AxesSubplot object at 0x0000019A3ADF4588>,\n",
       "        <matplotlib.axes._subplots.AxesSubplot object at 0x0000019A3AE25B38>,\n",
       "        <matplotlib.axes._subplots.AxesSubplot object at 0x0000019A3AE61128>,\n",
       "        <matplotlib.axes._subplots.AxesSubplot object at 0x0000019A3AE926D8>,\n",
       "        <matplotlib.axes._subplots.AxesSubplot object at 0x0000019A3AEC2C88>,\n",
       "        <matplotlib.axes._subplots.AxesSubplot object at 0x0000019A3AF00278>,\n",
       "        <matplotlib.axes._subplots.AxesSubplot object at 0x0000019A3AF30828>,\n",
       "        <matplotlib.axes._subplots.AxesSubplot object at 0x0000019A3AF63DD8>],\n",
       "       [<matplotlib.axes._subplots.AxesSubplot object at 0x0000019A3AFA03C8>,\n",
       "        <matplotlib.axes._subplots.AxesSubplot object at 0x0000019A3AFCD978>,\n",
       "        <matplotlib.axes._subplots.AxesSubplot object at 0x0000019A3B000F28>,\n",
       "        <matplotlib.axes._subplots.AxesSubplot object at 0x0000019A3B03C518>,\n",
       "        <matplotlib.axes._subplots.AxesSubplot object at 0x0000019A3B06DAC8>,\n",
       "        <matplotlib.axes._subplots.AxesSubplot object at 0x0000019A3B0AD0B8>,\n",
       "        <matplotlib.axes._subplots.AxesSubplot object at 0x0000019A3B0DB668>,\n",
       "        <matplotlib.axes._subplots.AxesSubplot object at 0x0000019A3B10DC18>,\n",
       "        <matplotlib.axes._subplots.AxesSubplot object at 0x0000019A3B149208>,\n",
       "        <matplotlib.axes._subplots.AxesSubplot object at 0x0000019A3B17A7B8>,\n",
       "        <matplotlib.axes._subplots.AxesSubplot object at 0x0000019A3B1AAD68>,\n",
       "        <matplotlib.axes._subplots.AxesSubplot object at 0x0000019A3B1E7358>,\n",
       "        <matplotlib.axes._subplots.AxesSubplot object at 0x0000019A3B218908>,\n",
       "        <matplotlib.axes._subplots.AxesSubplot object at 0x0000019A3B249EB8>,\n",
       "        <matplotlib.axes._subplots.AxesSubplot object at 0x0000019A3B2854A8>,\n",
       "        <matplotlib.axes._subplots.AxesSubplot object at 0x0000019A3B2B5A58>,\n",
       "        <matplotlib.axes._subplots.AxesSubplot object at 0x0000019A3B2F5048>],\n",
       "       [<matplotlib.axes._subplots.AxesSubplot object at 0x0000019A3B3265F8>,\n",
       "        <matplotlib.axes._subplots.AxesSubplot object at 0x0000019A3B354BA8>,\n",
       "        <matplotlib.axes._subplots.AxesSubplot object at 0x0000019A3B393198>,\n",
       "        <matplotlib.axes._subplots.AxesSubplot object at 0x0000019A3B3C1748>,\n",
       "        <matplotlib.axes._subplots.AxesSubplot object at 0x0000019A3B3F3CF8>,\n",
       "        <matplotlib.axes._subplots.AxesSubplot object at 0x0000019A3B4312E8>,\n",
       "        <matplotlib.axes._subplots.AxesSubplot object at 0x0000019A3B45E898>,\n",
       "        <matplotlib.axes._subplots.AxesSubplot object at 0x0000019A3B494E48>,\n",
       "        <matplotlib.axes._subplots.AxesSubplot object at 0x0000019A3B4CD438>,\n",
       "        <matplotlib.axes._subplots.AxesSubplot object at 0x0000019A3B5009E8>,\n",
       "        <matplotlib.axes._subplots.AxesSubplot object at 0x0000019A3B532F98>,\n",
       "        <matplotlib.axes._subplots.AxesSubplot object at 0x0000019A3B56C588>,\n",
       "        <matplotlib.axes._subplots.AxesSubplot object at 0x0000019A3B59FB38>,\n",
       "        <matplotlib.axes._subplots.AxesSubplot object at 0x0000019A3B5DB128>,\n",
       "        <matplotlib.axes._subplots.AxesSubplot object at 0x0000019A3B60C6D8>,\n",
       "        <matplotlib.axes._subplots.AxesSubplot object at 0x0000019A3B63DC88>,\n",
       "        <matplotlib.axes._subplots.AxesSubplot object at 0x0000019A3B67A278>],\n",
       "       [<matplotlib.axes._subplots.AxesSubplot object at 0x0000019A3B6A9828>,\n",
       "        <matplotlib.axes._subplots.AxesSubplot object at 0x0000019A3B6DBDD8>,\n",
       "        <matplotlib.axes._subplots.AxesSubplot object at 0x0000019A3B7183C8>,\n",
       "        <matplotlib.axes._subplots.AxesSubplot object at 0x0000019A3B748978>,\n",
       "        <matplotlib.axes._subplots.AxesSubplot object at 0x0000019A3B77AF28>,\n",
       "        <matplotlib.axes._subplots.AxesSubplot object at 0x0000019A3B7B5518>,\n",
       "        <matplotlib.axes._subplots.AxesSubplot object at 0x0000019A3B7E6AC8>,\n",
       "        <matplotlib.axes._subplots.AxesSubplot object at 0x0000019A3B8240B8>,\n",
       "        <matplotlib.axes._subplots.AxesSubplot object at 0x0000019A3B853668>,\n",
       "        <matplotlib.axes._subplots.AxesSubplot object at 0x0000019A3B884C18>,\n",
       "        <matplotlib.axes._subplots.AxesSubplot object at 0x0000019A3B8C3208>,\n",
       "        <matplotlib.axes._subplots.AxesSubplot object at 0x0000019A3B8F37B8>,\n",
       "        <matplotlib.axes._subplots.AxesSubplot object at 0x0000019A3B924D68>,\n",
       "        <matplotlib.axes._subplots.AxesSubplot object at 0x0000019A3B960358>,\n",
       "        <matplotlib.axes._subplots.AxesSubplot object at 0x0000019A3B98E908>,\n",
       "        <matplotlib.axes._subplots.AxesSubplot object at 0x0000019A3B9C3EB8>,\n",
       "        <matplotlib.axes._subplots.AxesSubplot object at 0x0000019A3BA004A8>],\n",
       "       [<matplotlib.axes._subplots.AxesSubplot object at 0x0000019A3BA2FA58>,\n",
       "        <matplotlib.axes._subplots.AxesSubplot object at 0x0000019A3BA6F048>,\n",
       "        <matplotlib.axes._subplots.AxesSubplot object at 0x0000019A3BA9D5F8>,\n",
       "        <matplotlib.axes._subplots.AxesSubplot object at 0x0000019A3BACEBA8>,\n",
       "        <matplotlib.axes._subplots.AxesSubplot object at 0x0000019A3BB0C198>,\n",
       "        <matplotlib.axes._subplots.AxesSubplot object at 0x0000019A3BB3B748>,\n",
       "        <matplotlib.axes._subplots.AxesSubplot object at 0x0000019A3BB6ECF8>,\n",
       "        <matplotlib.axes._subplots.AxesSubplot object at 0x0000019A3BBAB2E8>,\n",
       "        <matplotlib.axes._subplots.AxesSubplot object at 0x0000019A3BBDA898>,\n",
       "        <matplotlib.axes._subplots.AxesSubplot object at 0x0000019A3BC0DE48>,\n",
       "        <matplotlib.axes._subplots.AxesSubplot object at 0x0000019A3BC48438>,\n",
       "        <matplotlib.axes._subplots.AxesSubplot object at 0x0000019A3BC799E8>,\n",
       "        <matplotlib.axes._subplots.AxesSubplot object at 0x0000019A3BCABF98>,\n",
       "        <matplotlib.axes._subplots.AxesSubplot object at 0x0000019A3BCE7588>,\n",
       "        <matplotlib.axes._subplots.AxesSubplot object at 0x0000019A3BD18B38>,\n",
       "        <matplotlib.axes._subplots.AxesSubplot object at 0x0000019A3BD55128>,\n",
       "        <matplotlib.axes._subplots.AxesSubplot object at 0x0000019A3BD846D8>],\n",
       "       [<matplotlib.axes._subplots.AxesSubplot object at 0x0000019A3BDB4C88>,\n",
       "        <matplotlib.axes._subplots.AxesSubplot object at 0x0000019A3BDF5278>,\n",
       "        <matplotlib.axes._subplots.AxesSubplot object at 0x0000019A3BE21828>,\n",
       "        <matplotlib.axes._subplots.AxesSubplot object at 0x0000019A3BE54DD8>,\n",
       "        <matplotlib.axes._subplots.AxesSubplot object at 0x0000019A3BE923C8>,\n",
       "        <matplotlib.axes._subplots.AxesSubplot object at 0x0000019A3BEC2978>,\n",
       "        <matplotlib.axes._subplots.AxesSubplot object at 0x0000019A3BEF3F28>,\n",
       "        <matplotlib.axes._subplots.AxesSubplot object at 0x0000019A3BF30518>,\n",
       "        <matplotlib.axes._subplots.AxesSubplot object at 0x0000019A3BF61AC8>,\n",
       "        <matplotlib.axes._subplots.AxesSubplot object at 0x0000019A3BF9D0B8>,\n",
       "        <matplotlib.axes._subplots.AxesSubplot object at 0x0000019A3BFD0668>,\n",
       "        <matplotlib.axes._subplots.AxesSubplot object at 0x0000019A3C001C18>,\n",
       "        <matplotlib.axes._subplots.AxesSubplot object at 0x0000019A3C03C208>,\n",
       "        <matplotlib.axes._subplots.AxesSubplot object at 0x0000019A3C06D7B8>,\n",
       "        <matplotlib.axes._subplots.AxesSubplot object at 0x0000019A3C09FD68>,\n",
       "        <matplotlib.axes._subplots.AxesSubplot object at 0x0000019A3C0DB358>,\n",
       "        <matplotlib.axes._subplots.AxesSubplot object at 0x0000019A3C10C908>],\n",
       "       [<matplotlib.axes._subplots.AxesSubplot object at 0x0000019A3C13EEB8>,\n",
       "        <matplotlib.axes._subplots.AxesSubplot object at 0x0000019A3C1794A8>,\n",
       "        <matplotlib.axes._subplots.AxesSubplot object at 0x0000019A3C1ABA58>,\n",
       "        <matplotlib.axes._subplots.AxesSubplot object at 0x0000019A3C1E8048>,\n",
       "        <matplotlib.axes._subplots.AxesSubplot object at 0x0000019A3C2195F8>,\n",
       "        <matplotlib.axes._subplots.AxesSubplot object at 0x0000019A3C24ABA8>,\n",
       "        <matplotlib.axes._subplots.AxesSubplot object at 0x0000019A3C287198>,\n",
       "        <matplotlib.axes._subplots.AxesSubplot object at 0x0000019A3C2B5748>,\n",
       "        <matplotlib.axes._subplots.AxesSubplot object at 0x0000019A3C2E8CF8>,\n",
       "        <matplotlib.axes._subplots.AxesSubplot object at 0x0000019A3C3242E8>,\n",
       "        <matplotlib.axes._subplots.AxesSubplot object at 0x0000019A3C355898>,\n",
       "        <matplotlib.axes._subplots.AxesSubplot object at 0x0000019A3C388E48>,\n",
       "        <matplotlib.axes._subplots.AxesSubplot object at 0x0000019A3C3C3438>,\n",
       "        <matplotlib.axes._subplots.AxesSubplot object at 0x0000019A3C3F39E8>,\n",
       "        <matplotlib.axes._subplots.AxesSubplot object at 0x0000019A3C426F98>,\n",
       "        <matplotlib.axes._subplots.AxesSubplot object at 0x0000019A3C460588>,\n",
       "        <matplotlib.axes._subplots.AxesSubplot object at 0x0000019A3C492B38>],\n",
       "       [<matplotlib.axes._subplots.AxesSubplot object at 0x0000019A3C4D1128>,\n",
       "        <matplotlib.axes._subplots.AxesSubplot object at 0x0000019A3C5006D8>,\n",
       "        <matplotlib.axes._subplots.AxesSubplot object at 0x0000019A3C530C88>,\n",
       "        <matplotlib.axes._subplots.AxesSubplot object at 0x0000019A3C56F278>,\n",
       "        <matplotlib.axes._subplots.AxesSubplot object at 0x0000019A3C59F828>,\n",
       "        <matplotlib.axes._subplots.AxesSubplot object at 0x0000019A3C5D0DD8>,\n",
       "        <matplotlib.axes._subplots.AxesSubplot object at 0x0000019A3C60E3C8>,\n",
       "        <matplotlib.axes._subplots.AxesSubplot object at 0x0000019A3C63E978>,\n",
       "        <matplotlib.axes._subplots.AxesSubplot object at 0x0000019A3C670F28>,\n",
       "        <matplotlib.axes._subplots.AxesSubplot object at 0x0000019A3C6AB518>,\n",
       "        <matplotlib.axes._subplots.AxesSubplot object at 0x0000019A3C6DBAC8>,\n",
       "        <matplotlib.axes._subplots.AxesSubplot object at 0x0000019A3C7180B8>,\n",
       "        <matplotlib.axes._subplots.AxesSubplot object at 0x0000019A3C749668>,\n",
       "        <matplotlib.axes._subplots.AxesSubplot object at 0x0000019A3C77BC18>,\n",
       "        <matplotlib.axes._subplots.AxesSubplot object at 0x0000019A3C7B8208>,\n",
       "        <matplotlib.axes._subplots.AxesSubplot object at 0x0000019A3C7E77B8>,\n",
       "        <matplotlib.axes._subplots.AxesSubplot object at 0x0000019A3C81AD68>],\n",
       "       [<matplotlib.axes._subplots.AxesSubplot object at 0x0000019A3C855358>,\n",
       "        <matplotlib.axes._subplots.AxesSubplot object at 0x0000019A3C886908>,\n",
       "        <matplotlib.axes._subplots.AxesSubplot object at 0x0000019A3C8B9EB8>,\n",
       "        <matplotlib.axes._subplots.AxesSubplot object at 0x0000019A3D8C54A8>,\n",
       "        <matplotlib.axes._subplots.AxesSubplot object at 0x0000019A3D8F6A58>,\n",
       "        <matplotlib.axes._subplots.AxesSubplot object at 0x0000019A3D933048>,\n",
       "        <matplotlib.axes._subplots.AxesSubplot object at 0x0000019A3D9635F8>,\n",
       "        <matplotlib.axes._subplots.AxesSubplot object at 0x0000019A3D994BA8>,\n",
       "        <matplotlib.axes._subplots.AxesSubplot object at 0x0000019A3D9D0198>,\n",
       "        <matplotlib.axes._subplots.AxesSubplot object at 0x0000019A3DA01748>,\n",
       "        <matplotlib.axes._subplots.AxesSubplot object at 0x0000019A3DA32CF8>,\n",
       "        <matplotlib.axes._subplots.AxesSubplot object at 0x0000019A3DA702E8>,\n",
       "        <matplotlib.axes._subplots.AxesSubplot object at 0x0000019A3DA9F898>,\n",
       "        <matplotlib.axes._subplots.AxesSubplot object at 0x0000019A3DAD1E48>,\n",
       "        <matplotlib.axes._subplots.AxesSubplot object at 0x0000019A3DB0C438>,\n",
       "        <matplotlib.axes._subplots.AxesSubplot object at 0x0000019A3DB3F9E8>,\n",
       "        <matplotlib.axes._subplots.AxesSubplot object at 0x0000019A3DB70F98>],\n",
       "       [<matplotlib.axes._subplots.AxesSubplot object at 0x0000019A3DBAC588>,\n",
       "        <matplotlib.axes._subplots.AxesSubplot object at 0x0000019A3DBDDB38>,\n",
       "        <matplotlib.axes._subplots.AxesSubplot object at 0x0000019A3DC19128>,\n",
       "        <matplotlib.axes._subplots.AxesSubplot object at 0x0000019A3DC496D8>,\n",
       "        <matplotlib.axes._subplots.AxesSubplot object at 0x0000019A3DC79C88>,\n",
       "        <matplotlib.axes._subplots.AxesSubplot object at 0x0000019A3DCB9278>,\n",
       "        <matplotlib.axes._subplots.AxesSubplot object at 0x0000019A3DCEA828>,\n",
       "        <matplotlib.axes._subplots.AxesSubplot object at 0x0000019A3DD1BDD8>,\n",
       "        <matplotlib.axes._subplots.AxesSubplot object at 0x0000019A3DD583C8>,\n",
       "        <matplotlib.axes._subplots.AxesSubplot object at 0x0000019A3DD87978>,\n",
       "        <matplotlib.axes._subplots.AxesSubplot object at 0x0000019A3DDB9F28>,\n",
       "        <matplotlib.axes._subplots.AxesSubplot object at 0x0000019A3DDF7518>,\n",
       "        <matplotlib.axes._subplots.AxesSubplot object at 0x0000019A3DE26AC8>,\n",
       "        <matplotlib.axes._subplots.AxesSubplot object at 0x0000019A3DE650B8>,\n",
       "        <matplotlib.axes._subplots.AxesSubplot object at 0x0000019A3DE94668>,\n",
       "        <matplotlib.axes._subplots.AxesSubplot object at 0x0000019A3DEC6C18>,\n",
       "        <matplotlib.axes._subplots.AxesSubplot object at 0x0000019A3DF01208>]],\n",
       "      dtype=object)"
      ]
     },
     "execution_count": 18,
     "metadata": {},
     "output_type": "execute_result"
    },
    {
     "data": {
      "image/png": "[encoded data removed]",
      "text/plain": [
       "<Figure size 720x720 with 289 Axes>"
      ]
     },
     "metadata": {
      "needs_background": "light"
     },
     "output_type": "display_data"
    }
   ],
   "source": [
    "from pandas.plotting import scatter_matrix\n",
    "scatter_matrix(data, alpha = .01, figsize = (10, 10))  # строим матрицу ковариации"
   ]
  },
  {
   "cell_type": "code",
   "execution_count": 19,
   "metadata": {},
   "outputs": [
    {
     "data": {
      "text/html": [
       "<div>\n",
       "<style scoped>\n",
       "    .dataframe tbody tr th:only-of-type {\n",
       "        vertical-align: middle;\n",
       "    }\n",
       "\n",
       "    .dataframe tbody tr th {\n",
       "        vertical-align: top;\n",
       "    }\n",
       "\n",
       "    .dataframe thead th {\n",
       "        text-align: right;\n",
       "    }\n",
       "</style>\n",
       "<table border=\"1\" class=\"dataframe\">\n",
       "  <thead>\n",
       "    <tr style=\"text-align: right;\">\n",
       "      <th></th>\n",
       "      <th>hair</th>\n",
       "      <th>feathers</th>\n",
       "      <th>eggs</th>\n",
       "      <th>milk</th>\n",
       "      <th>airborne</th>\n",
       "      <th>aquatic</th>\n",
       "      <th>predator</th>\n",
       "      <th>toothed</th>\n",
       "      <th>backbone</th>\n",
       "      <th>breathes</th>\n",
       "      <th>venomous</th>\n",
       "      <th>fins</th>\n",
       "      <th>legs</th>\n",
       "      <th>tail</th>\n",
       "      <th>domestic</th>\n",
       "      <th>catsize</th>\n",
       "      <th>class_type</th>\n",
       "    </tr>\n",
       "  </thead>\n",
       "  <tbody>\n",
       "    <tr>\n",
       "      <th>hair</th>\n",
       "      <td>1.000000</td>\n",
       "      <td>-0.427851</td>\n",
       "      <td>-0.817382</td>\n",
       "      <td>0.878503</td>\n",
       "      <td>-0.198431</td>\n",
       "      <td>-0.473554</td>\n",
       "      <td>-0.154769</td>\n",
       "      <td>0.492531</td>\n",
       "      <td>0.191681</td>\n",
       "      <td>0.441149</td>\n",
       "      <td>-0.104245</td>\n",
       "      <td>-0.280313</td>\n",
       "      <td>0.394009</td>\n",
       "      <td>0.048973</td>\n",
       "      <td>0.207208</td>\n",
       "      <td>0.455020</td>\n",
       "      <td>-0.562384</td>\n",
       "    </tr>\n",
       "    <tr>\n",
       "      <th>feathers</th>\n",
       "      <td>-0.427851</td>\n",
       "      <td>1.000000</td>\n",
       "      <td>0.419248</td>\n",
       "      <td>-0.410761</td>\n",
       "      <td>0.656553</td>\n",
       "      <td>-0.058552</td>\n",
       "      <td>-0.104430</td>\n",
       "      <td>-0.613631</td>\n",
       "      <td>0.231403</td>\n",
       "      <td>0.254588</td>\n",
       "      <td>-0.145739</td>\n",
       "      <td>-0.223541</td>\n",
       "      <td>-0.206686</td>\n",
       "      <td>0.292569</td>\n",
       "      <td>0.031586</td>\n",
       "      <td>-0.135934</td>\n",
       "      <td>-0.197520</td>\n",
       "    </tr>\n",
       "    <tr>\n",
       "      <th>eggs</th>\n",
       "      <td>-0.817382</td>\n",
       "      <td>0.419248</td>\n",
       "      <td>1.000000</td>\n",
       "      <td>-0.938848</td>\n",
       "      <td>0.376646</td>\n",
       "      <td>0.376244</td>\n",
       "      <td>0.011605</td>\n",
       "      <td>-0.642150</td>\n",
       "      <td>-0.340420</td>\n",
       "      <td>-0.382777</td>\n",
       "      <td>0.098689</td>\n",
       "      <td>0.164796</td>\n",
       "      <td>-0.224918</td>\n",
       "      <td>-0.221090</td>\n",
       "      <td>-0.155610</td>\n",
       "      <td>-0.514650</td>\n",
       "      <td>0.661825</td>\n",
       "    </tr>\n",
       "    <tr>\n",
       "      <th>milk</th>\n",
       "      <td>0.878503</td>\n",
       "      <td>-0.410761</td>\n",
       "      <td>-0.938848</td>\n",
       "      <td>1.000000</td>\n",
       "      <td>-0.366765</td>\n",
       "      <td>-0.362613</td>\n",
       "      <td>-0.029721</td>\n",
       "      <td>0.628168</td>\n",
       "      <td>0.384958</td>\n",
       "      <td>0.423527</td>\n",
       "      <td>-0.242449</td>\n",
       "      <td>-0.156328</td>\n",
       "      <td>0.214196</td>\n",
       "      <td>0.210026</td>\n",
       "      <td>0.163928</td>\n",
       "      <td>0.574906</td>\n",
       "      <td>-0.723683</td>\n",
       "    </tr>\n",
       "    <tr>\n",
       "      <th>airborne</th>\n",
       "      <td>-0.198431</td>\n",
       "      <td>0.656553</td>\n",
       "      <td>0.376646</td>\n",
       "      <td>-0.366765</td>\n",
       "      <td>1.000000</td>\n",
       "      <td>-0.172638</td>\n",
       "      <td>-0.295181</td>\n",
       "      <td>-0.594311</td>\n",
       "      <td>-0.104718</td>\n",
       "      <td>0.286039</td>\n",
       "      <td>0.008528</td>\n",
       "      <td>-0.251157</td>\n",
       "      <td>0.043712</td>\n",
       "      <td>0.009482</td>\n",
       "      <td>0.063274</td>\n",
       "      <td>-0.349768</td>\n",
       "      <td>0.022677</td>\n",
       "    </tr>\n",
       "    <tr>\n",
       "      <th>aquatic</th>\n",
       "      <td>-0.473554</td>\n",
       "      <td>-0.058552</td>\n",
       "      <td>0.376244</td>\n",
       "      <td>-0.362613</td>\n",
       "      <td>-0.172638</td>\n",
       "      <td>1.000000</td>\n",
       "      <td>0.375978</td>\n",
       "      <td>0.053150</td>\n",
       "      <td>0.022463</td>\n",
       "      <td>-0.637506</td>\n",
       "      <td>0.087915</td>\n",
       "      <td>0.604492</td>\n",
       "      <td>-0.360638</td>\n",
       "      <td>-0.034642</td>\n",
       "      <td>-0.224308</td>\n",
       "      <td>-0.111866</td>\n",
       "      <td>0.326639</td>\n",
       "    </tr>\n",
       "    <tr>\n",
       "      <th>predator</th>\n",
       "      <td>-0.154769</td>\n",
       "      <td>-0.104430</td>\n",
       "      <td>0.011605</td>\n",
       "      <td>-0.029721</td>\n",
       "      <td>-0.295181</td>\n",
       "      <td>0.375978</td>\n",
       "      <td>1.000000</td>\n",
       "      <td>0.129452</td>\n",
       "      <td>0.051022</td>\n",
       "      <td>-0.262931</td>\n",
       "      <td>0.115391</td>\n",
       "      <td>0.190302</td>\n",
       "      <td>-0.099723</td>\n",
       "      <td>0.018947</td>\n",
       "      <td>-0.309794</td>\n",
       "      <td>0.144790</td>\n",
       "      <td>0.061179</td>\n",
       "    </tr>\n",
       "    <tr>\n",
       "      <th>toothed</th>\n",
       "      <td>0.492531</td>\n",
       "      <td>-0.613631</td>\n",
       "      <td>-0.642150</td>\n",
       "      <td>0.628168</td>\n",
       "      <td>-0.594311</td>\n",
       "      <td>0.053150</td>\n",
       "      <td>0.129452</td>\n",
       "      <td>1.000000</td>\n",
       "      <td>0.575085</td>\n",
       "      <td>-0.065690</td>\n",
       "      <td>-0.062344</td>\n",
       "      <td>0.364292</td>\n",
       "      <td>-0.193476</td>\n",
       "      <td>0.310368</td>\n",
       "      <td>0.069430</td>\n",
       "      <td>0.344010</td>\n",
       "      <td>-0.471527</td>\n",
       "    </tr>\n",
       "    <tr>\n",
       "      <th>backbone</th>\n",
       "      <td>0.191681</td>\n",
       "      <td>0.231403</td>\n",
       "      <td>-0.340420</td>\n",
       "      <td>0.384958</td>\n",
       "      <td>-0.104718</td>\n",
       "      <td>0.022463</td>\n",
       "      <td>0.051022</td>\n",
       "      <td>0.575085</td>\n",
       "      <td>1.000000</td>\n",
       "      <td>0.207666</td>\n",
       "      <td>-0.246611</td>\n",
       "      <td>0.209499</td>\n",
       "      <td>-0.432856</td>\n",
       "      <td>0.731762</td>\n",
       "      <td>0.101733</td>\n",
       "      <td>0.356976</td>\n",
       "      <td>-0.828845</td>\n",
       "    </tr>\n",
       "    <tr>\n",
       "      <th>breathes</th>\n",
       "      <td>0.441149</td>\n",
       "      <td>0.254588</td>\n",
       "      <td>-0.382777</td>\n",
       "      <td>0.423527</td>\n",
       "      <td>0.286039</td>\n",
       "      <td>-0.637506</td>\n",
       "      <td>-0.262931</td>\n",
       "      <td>-0.065690</td>\n",
       "      <td>0.207666</td>\n",
       "      <td>1.000000</td>\n",
       "      <td>-0.120752</td>\n",
       "      <td>-0.617219</td>\n",
       "      <td>0.369868</td>\n",
       "      <td>0.088952</td>\n",
       "      <td>0.124068</td>\n",
       "      <td>0.204125</td>\n",
       "      <td>-0.519308</td>\n",
       "    </tr>\n",
       "    <tr>\n",
       "      <th>venomous</th>\n",
       "      <td>-0.104245</td>\n",
       "      <td>-0.145739</td>\n",
       "      <td>0.098689</td>\n",
       "      <td>-0.242449</td>\n",
       "      <td>0.008528</td>\n",
       "      <td>0.087915</td>\n",
       "      <td>0.115391</td>\n",
       "      <td>-0.062344</td>\n",
       "      <td>-0.246611</td>\n",
       "      <td>-0.120752</td>\n",
       "      <td>1.000000</td>\n",
       "      <td>-0.033956</td>\n",
       "      <td>0.022964</td>\n",
       "      <td>-0.162724</td>\n",
       "      <td>-0.003252</td>\n",
       "      <td>-0.183748</td>\n",
       "      <td>0.321476</td>\n",
       "    </tr>\n",
       "    <tr>\n",
       "      <th>fins</th>\n",
       "      <td>-0.280313</td>\n",
       "      <td>-0.223541</td>\n",
       "      <td>0.164796</td>\n",
       "      <td>-0.156328</td>\n",
       "      <td>-0.251157</td>\n",
       "      <td>0.604492</td>\n",
       "      <td>0.190302</td>\n",
       "      <td>0.364292</td>\n",
       "      <td>0.209499</td>\n",
       "      <td>-0.617219</td>\n",
       "      <td>-0.033956</td>\n",
       "      <td>1.000000</td>\n",
       "      <td>-0.605652</td>\n",
       "      <td>0.204349</td>\n",
       "      <td>-0.093887</td>\n",
       "      <td>0.031705</td>\n",
       "      <td>0.099430</td>\n",
       "    </tr>\n",
       "    <tr>\n",
       "      <th>legs</th>\n",
       "      <td>0.394009</td>\n",
       "      <td>-0.206686</td>\n",
       "      <td>-0.224918</td>\n",
       "      <td>0.214196</td>\n",
       "      <td>0.043712</td>\n",
       "      <td>-0.360638</td>\n",
       "      <td>-0.099723</td>\n",
       "      <td>-0.193476</td>\n",
       "      <td>-0.432856</td>\n",
       "      <td>0.369868</td>\n",
       "      <td>0.022964</td>\n",
       "      <td>-0.605652</td>\n",
       "      <td>1.000000</td>\n",
       "      <td>-0.348295</td>\n",
       "      <td>0.073931</td>\n",
       "      <td>0.068791</td>\n",
       "      <td>0.131693</td>\n",
       "    </tr>\n",
       "    <tr>\n",
       "      <th>tail</th>\n",
       "      <td>0.048973</td>\n",
       "      <td>0.292569</td>\n",
       "      <td>-0.221090</td>\n",
       "      <td>0.210026</td>\n",
       "      <td>0.009482</td>\n",
       "      <td>-0.034642</td>\n",
       "      <td>0.018947</td>\n",
       "      <td>0.310368</td>\n",
       "      <td>0.731762</td>\n",
       "      <td>0.088952</td>\n",
       "      <td>-0.162724</td>\n",
       "      <td>0.204349</td>\n",
       "      <td>-0.348295</td>\n",
       "      <td>1.000000</td>\n",
       "      <td>0.023434</td>\n",
       "      <td>0.243277</td>\n",
       "      <td>-0.631830</td>\n",
       "    </tr>\n",
       "    <tr>\n",
       "      <th>domestic</th>\n",
       "      <td>0.207208</td>\n",
       "      <td>0.031586</td>\n",
       "      <td>-0.155610</td>\n",
       "      <td>0.163928</td>\n",
       "      <td>0.063274</td>\n",
       "      <td>-0.224308</td>\n",
       "      <td>-0.309794</td>\n",
       "      <td>0.069430</td>\n",
       "      <td>0.101733</td>\n",
       "      <td>0.124068</td>\n",
       "      <td>-0.003252</td>\n",
       "      <td>-0.093887</td>\n",
       "      <td>0.073931</td>\n",
       "      <td>0.023434</td>\n",
       "      <td>1.000000</td>\n",
       "      <td>0.020073</td>\n",
       "      <td>-0.181043</td>\n",
       "    </tr>\n",
       "    <tr>\n",
       "      <th>catsize</th>\n",
       "      <td>0.455020</td>\n",
       "      <td>-0.135934</td>\n",
       "      <td>-0.514650</td>\n",
       "      <td>0.574906</td>\n",
       "      <td>-0.349768</td>\n",
       "      <td>-0.111866</td>\n",
       "      <td>0.144790</td>\n",
       "      <td>0.344010</td>\n",
       "      <td>0.356976</td>\n",
       "      <td>0.204125</td>\n",
       "      <td>-0.183748</td>\n",
       "      <td>0.031705</td>\n",
       "      <td>0.068791</td>\n",
       "      <td>0.243277</td>\n",
       "      <td>0.020073</td>\n",
       "      <td>1.000000</td>\n",
       "      <td>-0.521030</td>\n",
       "    </tr>\n",
       "    <tr>\n",
       "      <th>class_type</th>\n",
       "      <td>-0.562384</td>\n",
       "      <td>-0.197520</td>\n",
       "      <td>0.661825</td>\n",
       "      <td>-0.723683</td>\n",
       "      <td>0.022677</td>\n",
       "      <td>0.326639</td>\n",
       "      <td>0.061179</td>\n",
       "      <td>-0.471527</td>\n",
       "      <td>-0.828845</td>\n",
       "      <td>-0.519308</td>\n",
       "      <td>0.321476</td>\n",
       "      <td>0.099430</td>\n",
       "      <td>0.131693</td>\n",
       "      <td>-0.631830</td>\n",
       "      <td>-0.181043</td>\n",
       "      <td>-0.521030</td>\n",
       "      <td>1.000000</td>\n",
       "    </tr>\n",
       "  </tbody>\n",
       "</table>\n",
       "</div>"
      ],
      "text/plain": [
       "                hair  feathers      eggs      milk  airborne   aquatic  \\\n",
       "hair        1.000000 -0.427851 -0.817382  0.878503 -0.198431 -0.473554   \n",
       "feathers   -0.427851  1.000000  0.419248 -0.410761  0.656553 -0.058552   \n",
       "eggs       -0.817382  0.419248  1.000000 -0.938848  0.376646  0.376244   \n",
       "milk        0.878503 -0.410761 -0.938848  1.000000 -0.366765 -0.362613   \n",
       "airborne   -0.198431  0.656553  0.376646 -0.366765  1.000000 -0.172638   \n",
       "aquatic    -0.473554 -0.058552  0.376244 -0.362613 -0.172638  1.000000   \n",
       "predator   -0.154769 -0.104430  0.011605 -0.029721 -0.295181  0.375978   \n",
       "toothed     0.492531 -0.613631 -0.642150  0.628168 -0.594311  0.053150   \n",
       "backbone    0.191681  0.231403 -0.340420  0.384958 -0.104718  0.022463   \n",
       "breathes    0.441149  0.254588 -0.382777  0.423527  0.286039 -0.637506   \n",
       "venomous   -0.104245 -0.145739  0.098689 -0.242449  0.008528  0.087915   \n",
       "fins       -0.280313 -0.223541  0.164796 -0.156328 -0.251157  0.604492   \n",
       "legs        0.394009 -0.206686 -0.224918  0.214196  0.043712 -0.360638   \n",
       "tail        0.048973  0.292569 -0.221090  0.210026  0.009482 -0.034642   \n",
       "domestic    0.207208  0.031586 -0.155610  0.163928  0.063274 -0.224308   \n",
       "catsize     0.455020 -0.135934 -0.514650  0.574906 -0.349768 -0.111866   \n",
       "class_type -0.562384 -0.197520  0.661825 -0.723683  0.022677  0.326639   \n",
       "\n",
       "            predator   toothed  backbone  breathes  venomous      fins  \\\n",
       "hair       -0.154769  0.492531  0.191681  0.441149 -0.104245 -0.280313   \n",
       "feathers   -0.104430 -0.613631  0.231403  0.254588 -0.145739 -0.223541   \n",
       "eggs        0.011605 -0.642150 -0.340420 -0.382777  0.098689  0.164796   \n",
       "milk       -0.029721  0.628168  0.384958  0.423527 -0.242449 -0.156328   \n",
       "airborne   -0.295181 -0.594311 -0.104718  0.286039  0.008528 -0.251157   \n",
       "aquatic     0.375978  0.053150  0.022463 -0.637506  0.087915  0.604492   \n",
       "predator    1.000000  0.129452  0.051022 -0.262931  0.115391  0.190302   \n",
       "toothed     0.129452  1.000000  0.575085 -0.065690 -0.062344  0.364292   \n",
       "backbone    0.051022  0.575085  1.000000  0.207666 -0.246611  0.209499   \n",
       "breathes   -0.262931 -0.065690  0.207666  1.000000 -0.120752 -0.617219   \n",
       "venomous    0.115391 -0.062344 -0.246611 -0.120752  1.000000 -0.033956   \n",
       "fins        0.190302  0.364292  0.209499 -0.617219 -0.033956  1.000000   \n",
       "legs       -0.099723 -0.193476 -0.432856  0.369868  0.022964 -0.605652   \n",
       "tail        0.018947  0.310368  0.731762  0.088952 -0.162724  0.204349   \n",
       "domestic   -0.309794  0.069430  0.101733  0.124068 -0.003252 -0.093887   \n",
       "catsize     0.144790  0.344010  0.356976  0.204125 -0.183748  0.031705   \n",
       "class_type  0.061179 -0.471527 -0.828845 -0.519308  0.321476  0.099430   \n",
       "\n",
       "                legs      tail  domestic   catsize  class_type  \n",
       "hair        0.394009  0.048973  0.207208  0.455020   -0.562384  \n",
       "feathers   -0.206686  0.292569  0.031586 -0.135934   -0.197520  \n",
       "eggs       -0.224918 -0.221090 -0.155610 -0.514650    0.661825  \n",
       "milk        0.214196  0.210026  0.163928  0.574906   -0.723683  \n",
       "airborne    0.043712  0.009482  0.063274 -0.349768    0.022677  \n",
       "aquatic    -0.360638 -0.034642 -0.224308 -0.111866    0.326639  \n",
       "predator   -0.099723  0.018947 -0.309794  0.144790    0.061179  \n",
       "toothed    -0.193476  0.310368  0.069430  0.344010   -0.471527  \n",
       "backbone   -0.432856  0.731762  0.101733  0.356976   -0.828845  \n",
       "breathes    0.369868  0.088952  0.124068  0.204125   -0.519308  \n",
       "venomous    0.022964 -0.162724 -0.003252 -0.183748    0.321476  \n",
       "fins       -0.605652  0.204349 -0.093887  0.031705    0.099430  \n",
       "legs        1.000000 -0.348295  0.073931  0.068791    0.131693  \n",
       "tail       -0.348295  1.000000  0.023434  0.243277   -0.631830  \n",
       "domestic    0.073931  0.023434  1.000000  0.020073   -0.181043  \n",
       "catsize     0.068791  0.243277  0.020073  1.000000   -0.521030  \n",
       "class_type  0.131693 -0.631830 -0.181043 -0.521030    1.000000  "
      ]
     },
     "execution_count": 19,
     "metadata": {},
     "output_type": "execute_result"
    }
   ],
   "source": [
    "data.corr()"
   ]
  },
  {
   "cell_type": "code",
   "execution_count": 20,
   "metadata": {},
   "outputs": [
    {
     "data": {
      "image/png": "[encoded data removed]",
      "text/plain": [
       "<Figure size 432x288 with 1 Axes>"
      ]
     },
     "metadata": {
      "needs_background": "light"
     },
     "output_type": "display_data"
    }
   ],
   "source": [
    "# зависимость числа ног от признака domestic\n",
    "plt.plot(data['legs'], data['domestic'], 'o', 0.05)\n",
    "plt.xlabel('legs')\n",
    "plt.ylabel('domestic')\n",
    "plt.title('Number of legs vs Domestic')\n",
    "pass"
   ]
  },
  {
   "cell_type": "code",
   "execution_count": 21,
   "metadata": {},
   "outputs": [
    {
     "data": {
      "text/plain": [
       "85    starfish\n",
       "Name: animal_name, dtype: object"
      ]
     },
     "execution_count": 21,
     "metadata": {},
     "output_type": "execute_result"
    }
   ],
   "source": [
    "data['animal_name'][data['legs'] == 5]"
   ]
  },
  {
   "cell_type": "code",
   "execution_count": 22,
   "metadata": {},
   "outputs": [
    {
     "data": {
      "image/png": "[encoded data removed]",
      "text/plain": [
       "<Figure size 720x432 with 1 Axes>"
      ]
     },
     "metadata": {
      "needs_background": "light"
     },
     "output_type": "display_data"
    }
   ],
   "source": [
    "plt.figure(figsize = (10, 6))\n",
    "\n",
    "plt.scatter(data[data['legs'] <= 4]['predator'],  # хищники с числом ног <= 4\n",
    "            data[data['legs'] <= 4]['eggs'],  # животные, несущие яйца с числом ног <= 4\n",
    "            alpha = 0.15,\n",
    "            label = '<=4',\n",
    "            color = 'b')\n",
    "\n",
    "plt.scatter(data[data['legs'] > 4]['predator'],  # хищники с числом ног > 4\n",
    "            data[data['legs'] > 4]['eggs'],  # животные, несущие яйца с числом ног > 4\n",
    "            alpha = 0.5,\n",
    "            label = '>4',\n",
    "            color = 'r')\n",
    "\n",
    "plt.xlabel('predator')\n",
    "plt.legend()\n",
    "plt.grid()"
   ]
  },
  {
   "cell_type": "code",
   "execution_count": 23,
   "metadata": {},
   "outputs": [
    {
     "data": {
      "text/html": [
       "<div>\n",
       "<style scoped>\n",
       "    .dataframe tbody tr th:only-of-type {\n",
       "        vertical-align: middle;\n",
       "    }\n",
       "\n",
       "    .dataframe tbody tr th {\n",
       "        vertical-align: top;\n",
       "    }\n",
       "\n",
       "    .dataframe thead th {\n",
       "        text-align: right;\n",
       "    }\n",
       "</style>\n",
       "<table border=\"1\" class=\"dataframe\">\n",
       "  <thead>\n",
       "    <tr style=\"text-align: right;\">\n",
       "      <th></th>\n",
       "      <th>animal_name</th>\n",
       "    </tr>\n",
       "  </thead>\n",
       "  <tbody>\n",
       "    <tr>\n",
       "      <th>count</th>\n",
       "      <td>101</td>\n",
       "    </tr>\n",
       "    <tr>\n",
       "      <th>unique</th>\n",
       "      <td>100</td>\n",
       "    </tr>\n",
       "    <tr>\n",
       "      <th>top</th>\n",
       "      <td>frog</td>\n",
       "    </tr>\n",
       "    <tr>\n",
       "      <th>freq</th>\n",
       "      <td>2</td>\n",
       "    </tr>\n",
       "  </tbody>\n",
       "</table>\n",
       "</div>"
      ],
      "text/plain": [
       "       animal_name\n",
       "count          101\n",
       "unique         100\n",
       "top           frog\n",
       "freq             2"
      ]
     },
     "execution_count": 23,
     "metadata": {},
     "output_type": "execute_result"
    }
   ],
   "source": [
    "data.describe(include = ['object'])"
   ]
  },
  {
   "cell_type": "code",
   "execution_count": 24,
   "metadata": {
    "scrolled": true
   },
   "outputs": [
    {
     "data": {
      "text/html": [
       "<div>\n",
       "<style scoped>\n",
       "    .dataframe tbody tr th:only-of-type {\n",
       "        vertical-align: middle;\n",
       "    }\n",
       "\n",
       "    .dataframe tbody tr th {\n",
       "        vertical-align: top;\n",
       "    }\n",
       "\n",
       "    .dataframe thead th {\n",
       "        text-align: right;\n",
       "    }\n",
       "</style>\n",
       "<table border=\"1\" class=\"dataframe\">\n",
       "  <thead>\n",
       "    <tr style=\"text-align: right;\">\n",
       "      <th></th>\n",
       "      <th>animal_name</th>\n",
       "      <th>hair</th>\n",
       "      <th>feathers</th>\n",
       "      <th>eggs</th>\n",
       "      <th>milk</th>\n",
       "      <th>airborne</th>\n",
       "      <th>aquatic</th>\n",
       "      <th>predator</th>\n",
       "      <th>toothed</th>\n",
       "      <th>backbone</th>\n",
       "      <th>breathes</th>\n",
       "      <th>venomous</th>\n",
       "      <th>fins</th>\n",
       "      <th>legs</th>\n",
       "      <th>tail</th>\n",
       "      <th>domestic</th>\n",
       "      <th>catsize</th>\n",
       "      <th>class_type</th>\n",
       "    </tr>\n",
       "  </thead>\n",
       "  <tbody>\n",
       "    <tr>\n",
       "      <th>count</th>\n",
       "      <td>101</td>\n",
       "      <td>101.000000</td>\n",
       "      <td>101.000000</td>\n",
       "      <td>101.000000</td>\n",
       "      <td>101.000000</td>\n",
       "      <td>101.000000</td>\n",
       "      <td>101.000000</td>\n",
       "      <td>101.000000</td>\n",
       "      <td>101.000000</td>\n",
       "      <td>101.000000</td>\n",
       "      <td>101.000000</td>\n",
       "      <td>101.000000</td>\n",
       "      <td>101.000000</td>\n",
       "      <td>101.000000</td>\n",
       "      <td>101.000000</td>\n",
       "      <td>101.000000</td>\n",
       "      <td>101.000000</td>\n",
       "      <td>101.000000</td>\n",
       "    </tr>\n",
       "    <tr>\n",
       "      <th>unique</th>\n",
       "      <td>100</td>\n",
       "      <td>NaN</td>\n",
       "      <td>NaN</td>\n",
       "      <td>NaN</td>\n",
       "      <td>NaN</td>\n",
       "      <td>NaN</td>\n",
       "      <td>NaN</td>\n",
       "      <td>NaN</td>\n",
       "      <td>NaN</td>\n",
       "      <td>NaN</td>\n",
       "      <td>NaN</td>\n",
       "      <td>NaN</td>\n",
       "      <td>NaN</td>\n",
       "      <td>NaN</td>\n",
       "      <td>NaN</td>\n",
       "      <td>NaN</td>\n",
       "      <td>NaN</td>\n",
       "      <td>NaN</td>\n",
       "    </tr>\n",
       "    <tr>\n",
       "      <th>top</th>\n",
       "      <td>frog</td>\n",
       "      <td>NaN</td>\n",
       "      <td>NaN</td>\n",
       "      <td>NaN</td>\n",
       "      <td>NaN</td>\n",
       "      <td>NaN</td>\n",
       "      <td>NaN</td>\n",
       "      <td>NaN</td>\n",
       "      <td>NaN</td>\n",
       "      <td>NaN</td>\n",
       "      <td>NaN</td>\n",
       "      <td>NaN</td>\n",
       "      <td>NaN</td>\n",
       "      <td>NaN</td>\n",
       "      <td>NaN</td>\n",
       "      <td>NaN</td>\n",
       "      <td>NaN</td>\n",
       "      <td>NaN</td>\n",
       "    </tr>\n",
       "    <tr>\n",
       "      <th>freq</th>\n",
       "      <td>2</td>\n",
       "      <td>NaN</td>\n",
       "      <td>NaN</td>\n",
       "      <td>NaN</td>\n",
       "      <td>NaN</td>\n",
       "      <td>NaN</td>\n",
       "      <td>NaN</td>\n",
       "      <td>NaN</td>\n",
       "      <td>NaN</td>\n",
       "      <td>NaN</td>\n",
       "      <td>NaN</td>\n",
       "      <td>NaN</td>\n",
       "      <td>NaN</td>\n",
       "      <td>NaN</td>\n",
       "      <td>NaN</td>\n",
       "      <td>NaN</td>\n",
       "      <td>NaN</td>\n",
       "      <td>NaN</td>\n",
       "    </tr>\n",
       "    <tr>\n",
       "      <th>mean</th>\n",
       "      <td>NaN</td>\n",
       "      <td>0.425743</td>\n",
       "      <td>0.198020</td>\n",
       "      <td>0.584158</td>\n",
       "      <td>0.405941</td>\n",
       "      <td>0.237624</td>\n",
       "      <td>0.356436</td>\n",
       "      <td>0.554455</td>\n",
       "      <td>0.603960</td>\n",
       "      <td>0.821782</td>\n",
       "      <td>0.792079</td>\n",
       "      <td>0.079208</td>\n",
       "      <td>0.168317</td>\n",
       "      <td>2.841584</td>\n",
       "      <td>0.742574</td>\n",
       "      <td>0.128713</td>\n",
       "      <td>0.435644</td>\n",
       "      <td>2.831683</td>\n",
       "    </tr>\n",
       "    <tr>\n",
       "      <th>std</th>\n",
       "      <td>NaN</td>\n",
       "      <td>0.496921</td>\n",
       "      <td>0.400495</td>\n",
       "      <td>0.495325</td>\n",
       "      <td>0.493522</td>\n",
       "      <td>0.427750</td>\n",
       "      <td>0.481335</td>\n",
       "      <td>0.499505</td>\n",
       "      <td>0.491512</td>\n",
       "      <td>0.384605</td>\n",
       "      <td>0.407844</td>\n",
       "      <td>0.271410</td>\n",
       "      <td>0.376013</td>\n",
       "      <td>2.033385</td>\n",
       "      <td>0.439397</td>\n",
       "      <td>0.336552</td>\n",
       "      <td>0.498314</td>\n",
       "      <td>2.102709</td>\n",
       "    </tr>\n",
       "    <tr>\n",
       "      <th>min</th>\n",
       "      <td>NaN</td>\n",
       "      <td>0.000000</td>\n",
       "      <td>0.000000</td>\n",
       "      <td>0.000000</td>\n",
       "      <td>0.000000</td>\n",
       "      <td>0.000000</td>\n",
       "      <td>0.000000</td>\n",
       "      <td>0.000000</td>\n",
       "      <td>0.000000</td>\n",
       "      <td>0.000000</td>\n",
       "      <td>0.000000</td>\n",
       "      <td>0.000000</td>\n",
       "      <td>0.000000</td>\n",
       "      <td>0.000000</td>\n",
       "      <td>0.000000</td>\n",
       "      <td>0.000000</td>\n",
       "      <td>0.000000</td>\n",
       "      <td>1.000000</td>\n",
       "    </tr>\n",
       "    <tr>\n",
       "      <th>25%</th>\n",
       "      <td>NaN</td>\n",
       "      <td>0.000000</td>\n",
       "      <td>0.000000</td>\n",
       "      <td>0.000000</td>\n",
       "      <td>0.000000</td>\n",
       "      <td>0.000000</td>\n",
       "      <td>0.000000</td>\n",
       "      <td>0.000000</td>\n",
       "      <td>0.000000</td>\n",
       "      <td>1.000000</td>\n",
       "      <td>1.000000</td>\n",
       "      <td>0.000000</td>\n",
       "      <td>0.000000</td>\n",
       "      <td>2.000000</td>\n",
       "      <td>0.000000</td>\n",
       "      <td>0.000000</td>\n",
       "      <td>0.000000</td>\n",
       "      <td>1.000000</td>\n",
       "    </tr>\n",
       "    <tr>\n",
       "      <th>50%</th>\n",
       "      <td>NaN</td>\n",
       "      <td>0.000000</td>\n",
       "      <td>0.000000</td>\n",
       "      <td>1.000000</td>\n",
       "      <td>0.000000</td>\n",
       "      <td>0.000000</td>\n",
       "      <td>0.000000</td>\n",
       "      <td>1.000000</td>\n",
       "      <td>1.000000</td>\n",
       "      <td>1.000000</td>\n",
       "      <td>1.000000</td>\n",
       "      <td>0.000000</td>\n",
       "      <td>0.000000</td>\n",
       "      <td>4.000000</td>\n",
       "      <td>1.000000</td>\n",
       "      <td>0.000000</td>\n",
       "      <td>0.000000</td>\n",
       "      <td>2.000000</td>\n",
       "    </tr>\n",
       "    <tr>\n",
       "      <th>75%</th>\n",
       "      <td>NaN</td>\n",
       "      <td>1.000000</td>\n",
       "      <td>0.000000</td>\n",
       "      <td>1.000000</td>\n",
       "      <td>1.000000</td>\n",
       "      <td>0.000000</td>\n",
       "      <td>1.000000</td>\n",
       "      <td>1.000000</td>\n",
       "      <td>1.000000</td>\n",
       "      <td>1.000000</td>\n",
       "      <td>1.000000</td>\n",
       "      <td>0.000000</td>\n",
       "      <td>0.000000</td>\n",
       "      <td>4.000000</td>\n",
       "      <td>1.000000</td>\n",
       "      <td>0.000000</td>\n",
       "      <td>1.000000</td>\n",
       "      <td>4.000000</td>\n",
       "    </tr>\n",
       "    <tr>\n",
       "      <th>max</th>\n",
       "      <td>NaN</td>\n",
       "      <td>1.000000</td>\n",
       "      <td>1.000000</td>\n",
       "      <td>1.000000</td>\n",
       "      <td>1.000000</td>\n",
       "      <td>1.000000</td>\n",
       "      <td>1.000000</td>\n",
       "      <td>1.000000</td>\n",
       "      <td>1.000000</td>\n",
       "      <td>1.000000</td>\n",
       "      <td>1.000000</td>\n",
       "      <td>1.000000</td>\n",
       "      <td>1.000000</td>\n",
       "      <td>8.000000</td>\n",
       "      <td>1.000000</td>\n",
       "      <td>1.000000</td>\n",
       "      <td>1.000000</td>\n",
       "      <td>7.000000</td>\n",
       "    </tr>\n",
       "  </tbody>\n",
       "</table>\n",
       "</div>"
      ],
      "text/plain": [
       "       animal_name        hair    feathers        eggs        milk  \\\n",
       "count          101  101.000000  101.000000  101.000000  101.000000   \n",
       "unique         100         NaN         NaN         NaN         NaN   \n",
       "top           frog         NaN         NaN         NaN         NaN   \n",
       "freq             2         NaN         NaN         NaN         NaN   \n",
       "mean           NaN    0.425743    0.198020    0.584158    0.405941   \n",
       "std            NaN    0.496921    0.400495    0.495325    0.493522   \n",
       "min            NaN    0.000000    0.000000    0.000000    0.000000   \n",
       "25%            NaN    0.000000    0.000000    0.000000    0.000000   \n",
       "50%            NaN    0.000000    0.000000    1.000000    0.000000   \n",
       "75%            NaN    1.000000    0.000000    1.000000    1.000000   \n",
       "max            NaN    1.000000    1.000000    1.000000    1.000000   \n",
       "\n",
       "          airborne     aquatic    predator     toothed    backbone  \\\n",
       "count   101.000000  101.000000  101.000000  101.000000  101.000000   \n",
       "unique         NaN         NaN         NaN         NaN         NaN   \n",
       "top            NaN         NaN         NaN         NaN         NaN   \n",
       "freq           NaN         NaN         NaN         NaN         NaN   \n",
       "mean      0.237624    0.356436    0.554455    0.603960    0.821782   \n",
       "std       0.427750    0.481335    0.499505    0.491512    0.384605   \n",
       "min       0.000000    0.000000    0.000000    0.000000    0.000000   \n",
       "25%       0.000000    0.000000    0.000000    0.000000    1.000000   \n",
       "50%       0.000000    0.000000    1.000000    1.000000    1.000000   \n",
       "75%       0.000000    1.000000    1.000000    1.000000    1.000000   \n",
       "max       1.000000    1.000000    1.000000    1.000000    1.000000   \n",
       "\n",
       "          breathes    venomous        fins        legs        tail  \\\n",
       "count   101.000000  101.000000  101.000000  101.000000  101.000000   \n",
       "unique         NaN         NaN         NaN         NaN         NaN   \n",
       "top            NaN         NaN         NaN         NaN         NaN   \n",
       "freq           NaN         NaN         NaN         NaN         NaN   \n",
       "mean      0.792079    0.079208    0.168317    2.841584    0.742574   \n",
       "std       0.407844    0.271410    0.376013    2.033385    0.439397   \n",
       "min       0.000000    0.000000    0.000000    0.000000    0.000000   \n",
       "25%       1.000000    0.000000    0.000000    2.000000    0.000000   \n",
       "50%       1.000000    0.000000    0.000000    4.000000    1.000000   \n",
       "75%       1.000000    0.000000    0.000000    4.000000    1.000000   \n",
       "max       1.000000    1.000000    1.000000    8.000000    1.000000   \n",
       "\n",
       "          domestic     catsize  class_type  \n",
       "count   101.000000  101.000000  101.000000  \n",
       "unique         NaN         NaN         NaN  \n",
       "top            NaN         NaN         NaN  \n",
       "freq           NaN         NaN         NaN  \n",
       "mean      0.128713    0.435644    2.831683  \n",
       "std       0.336552    0.498314    2.102709  \n",
       "min       0.000000    0.000000    1.000000  \n",
       "25%       0.000000    0.000000    1.000000  \n",
       "50%       0.000000    0.000000    2.000000  \n",
       "75%       0.000000    1.000000    4.000000  \n",
       "max       1.000000    1.000000    7.000000  "
      ]
     },
     "execution_count": 24,
     "metadata": {},
     "output_type": "execute_result"
    }
   ],
   "source": [
    "data.describe(include = 'all')"
   ]
  },
  {
   "cell_type": "code",
   "execution_count": 32,
   "metadata": {},
   "outputs": [
    {
     "data": {
      "text/plain": [
       "array(['aardvark', 'antelope', 'bass', 'bear', 'boar', 'buffalo', 'calf',\n",
       "       'carp', 'catfish', 'cavy', 'cheetah', 'chicken', 'chub', 'clam',\n",
       "       'crab', 'crayfish', 'crow', 'deer', 'dogfish', 'dolphin', 'dove',\n",
       "       'duck', 'elephant', 'flamingo', 'flea', 'frog', 'fruitbat',\n",
       "       'giraffe', 'girl', 'gnat', 'goat', 'gorilla', 'gull', 'haddock',\n",
       "       'hamster', 'hare', 'hawk', 'herring', 'honeybee', 'housefly',\n",
       "       'kiwi', 'ladybird', 'lark', 'leopard', 'lion', 'lobster', 'lynx',\n",
       "       'mink', 'mole', 'mongoose', 'moth', 'newt', 'octopus', 'opossum',\n",
       "       'oryx', 'ostrich', 'parakeet', 'penguin', 'pheasant', 'pike',\n",
       "       'piranha', 'pitviper', 'platypus', 'polecat', 'pony', 'porpoise',\n",
       "       'puma', 'pussycat', 'raccoon', 'reindeer', 'rhea', 'scorpion',\n",
       "       'seahorse', 'seal', 'sealion', 'seasnake', 'seawasp', 'skimmer',\n",
       "       'skua', 'slowworm', 'slug', 'sole', 'sparrow', 'squirrel',\n",
       "       'starfish', 'stingray', 'swan', 'termite', 'toad', 'tortoise',\n",
       "       'tuatara', 'tuna', 'vampire', 'vole', 'vulture', 'wallaby', 'wasp',\n",
       "       'wolf', 'worm', 'wren'], dtype=object)"
      ]
     },
     "execution_count": 32,
     "metadata": {},
     "output_type": "execute_result"
    }
   ],
   "source": [
    "data['animal_name'].unique()"
   ]
  },
  {
   "cell_type": "code",
   "execution_count": 33,
   "metadata": {},
   "outputs": [
    {
     "data": {
      "text/plain": [
       "array([4, 0, 2, 6, 8, 5], dtype=int64)"
      ]
     },
     "execution_count": 33,
     "metadata": {},
     "output_type": "execute_result"
    }
   ],
   "source": [
    "data['legs'].unique()"
   ]
  },
  {
   "cell_type": "code",
   "execution_count": 34,
   "metadata": {},
   "outputs": [
    {
     "name": "stdout",
     "output_type": "stream",
     "text": [
      "aardvark 4\n",
      "antelope 4\n",
      "bass 0\n",
      "bear 4\n",
      "boar 4\n",
      "buffalo 4\n",
      "calf 4\n",
      "carp 0\n",
      "catfish 0\n",
      "cavy 4\n",
      "cheetah 4\n",
      "chicken 2\n",
      "chub 0\n",
      "clam 0\n",
      "crab 4\n",
      "crayfish 6\n",
      "crow 2\n",
      "deer 4\n",
      "dogfish 0\n",
      "dolphin 0\n",
      "dove 2\n",
      "duck 2\n",
      "elephant 4\n",
      "flamingo 2\n",
      "flea 6\n",
      "frog 4\n",
      "fruitbat 2\n",
      "giraffe 4\n",
      "girl 2\n",
      "gnat 6\n",
      "goat 4\n",
      "gorilla 2\n",
      "gull 2\n",
      "haddock 0\n",
      "hamster 4\n",
      "hare 4\n",
      "hawk 2\n",
      "herring 0\n",
      "honeybee 6\n",
      "housefly 6\n",
      "kiwi 2\n",
      "ladybird 6\n",
      "lark 2\n",
      "leopard 4\n",
      "lion 4\n",
      "lobster 6\n",
      "lynx 4\n",
      "mink 4\n",
      "mole 4\n",
      "mongoose 4\n",
      "moth 6\n",
      "newt 4\n",
      "octopus 8\n",
      "opossum 4\n",
      "oryx 4\n",
      "ostrich 2\n",
      "parakeet 2\n",
      "penguin 2\n",
      "pheasant 2\n",
      "pike 0\n",
      "piranha 0\n",
      "pitviper 0\n",
      "platypus 4\n",
      "polecat 4\n",
      "pony 4\n",
      "porpoise 0\n",
      "puma 4\n",
      "pussycat 4\n",
      "raccoon 4\n",
      "reindeer 4\n",
      "rhea 2\n",
      "scorpion 8\n",
      "seahorse 0\n",
      "seal 0\n",
      "sealion 2\n",
      "seasnake 0\n",
      "seawasp 0\n",
      "skimmer 2\n",
      "skua 2\n",
      "slowworm 0\n",
      "slug 0\n",
      "sole 0\n",
      "sparrow 2\n",
      "squirrel 2\n",
      "starfish 5\n",
      "stingray 0\n",
      "swan 2\n",
      "termite 6\n",
      "toad 4\n",
      "tortoise 4\n",
      "tuatara 4\n",
      "tuna 0\n",
      "vampire 2\n",
      "vole 4\n",
      "vulture 2\n",
      "wallaby 2\n",
      "wasp 6\n",
      "wolf 4\n",
      "worm 0\n",
      "wren 2\n"
     ]
    }
   ],
   "source": [
    "for name in data['animal_name'].unique():\n",
    "    print(name, data['legs'][data['animal_name'] == name].iloc[0])"
   ]
  },
  {
   "cell_type": "code",
   "execution_count": 35,
   "metadata": {},
   "outputs": [
    {
     "data": {
      "text/html": [
       "<div>\n",
       "<style scoped>\n",
       "    .dataframe tbody tr th:only-of-type {\n",
       "        vertical-align: middle;\n",
       "    }\n",
       "\n",
       "    .dataframe tbody tr th {\n",
       "        vertical-align: top;\n",
       "    }\n",
       "\n",
       "    .dataframe thead th {\n",
       "        text-align: right;\n",
       "    }\n",
       "</style>\n",
       "<table border=\"1\" class=\"dataframe\">\n",
       "  <thead>\n",
       "    <tr style=\"text-align: right;\">\n",
       "      <th></th>\n",
       "      <th>animal_name</th>\n",
       "      <th>hair</th>\n",
       "      <th>feathers</th>\n",
       "      <th>eggs</th>\n",
       "      <th>milk</th>\n",
       "      <th>airborne</th>\n",
       "      <th>aquatic</th>\n",
       "      <th>predator</th>\n",
       "      <th>toothed</th>\n",
       "      <th>backbone</th>\n",
       "      <th>venomous</th>\n",
       "      <th>fins</th>\n",
       "      <th>legs</th>\n",
       "      <th>tail</th>\n",
       "      <th>domestic</th>\n",
       "      <th>class_type</th>\n",
       "    </tr>\n",
       "  </thead>\n",
       "  <tbody>\n",
       "    <tr>\n",
       "      <td>0</td>\n",
       "      <td>aardvark</td>\n",
       "      <td>1</td>\n",
       "      <td>0</td>\n",
       "      <td>0</td>\n",
       "      <td>1</td>\n",
       "      <td>0</td>\n",
       "      <td>0</td>\n",
       "      <td>1</td>\n",
       "      <td>1</td>\n",
       "      <td>1</td>\n",
       "      <td>0</td>\n",
       "      <td>0</td>\n",
       "      <td>4</td>\n",
       "      <td>0</td>\n",
       "      <td>0</td>\n",
       "      <td>1</td>\n",
       "    </tr>\n",
       "    <tr>\n",
       "      <td>1</td>\n",
       "      <td>antelope</td>\n",
       "      <td>1</td>\n",
       "      <td>0</td>\n",
       "      <td>0</td>\n",
       "      <td>1</td>\n",
       "      <td>0</td>\n",
       "      <td>0</td>\n",
       "      <td>0</td>\n",
       "      <td>1</td>\n",
       "      <td>1</td>\n",
       "      <td>0</td>\n",
       "      <td>0</td>\n",
       "      <td>4</td>\n",
       "      <td>1</td>\n",
       "      <td>0</td>\n",
       "      <td>1</td>\n",
       "    </tr>\n",
       "    <tr>\n",
       "      <td>2</td>\n",
       "      <td>bass</td>\n",
       "      <td>0</td>\n",
       "      <td>0</td>\n",
       "      <td>1</td>\n",
       "      <td>0</td>\n",
       "      <td>0</td>\n",
       "      <td>1</td>\n",
       "      <td>1</td>\n",
       "      <td>1</td>\n",
       "      <td>1</td>\n",
       "      <td>0</td>\n",
       "      <td>1</td>\n",
       "      <td>0</td>\n",
       "      <td>1</td>\n",
       "      <td>0</td>\n",
       "      <td>4</td>\n",
       "    </tr>\n",
       "    <tr>\n",
       "      <td>3</td>\n",
       "      <td>bear</td>\n",
       "      <td>1</td>\n",
       "      <td>0</td>\n",
       "      <td>0</td>\n",
       "      <td>1</td>\n",
       "      <td>0</td>\n",
       "      <td>0</td>\n",
       "      <td>1</td>\n",
       "      <td>1</td>\n",
       "      <td>1</td>\n",
       "      <td>0</td>\n",
       "      <td>0</td>\n",
       "      <td>4</td>\n",
       "      <td>0</td>\n",
       "      <td>0</td>\n",
       "      <td>1</td>\n",
       "    </tr>\n",
       "    <tr>\n",
       "      <td>4</td>\n",
       "      <td>boar</td>\n",
       "      <td>1</td>\n",
       "      <td>0</td>\n",
       "      <td>0</td>\n",
       "      <td>1</td>\n",
       "      <td>0</td>\n",
       "      <td>0</td>\n",
       "      <td>1</td>\n",
       "      <td>1</td>\n",
       "      <td>1</td>\n",
       "      <td>0</td>\n",
       "      <td>0</td>\n",
       "      <td>4</td>\n",
       "      <td>1</td>\n",
       "      <td>0</td>\n",
       "      <td>1</td>\n",
       "    </tr>\n",
       "    <tr>\n",
       "      <td>...</td>\n",
       "      <td>...</td>\n",
       "      <td>...</td>\n",
       "      <td>...</td>\n",
       "      <td>...</td>\n",
       "      <td>...</td>\n",
       "      <td>...</td>\n",
       "      <td>...</td>\n",
       "      <td>...</td>\n",
       "      <td>...</td>\n",
       "      <td>...</td>\n",
       "      <td>...</td>\n",
       "      <td>...</td>\n",
       "      <td>...</td>\n",
       "      <td>...</td>\n",
       "      <td>...</td>\n",
       "      <td>...</td>\n",
       "    </tr>\n",
       "    <tr>\n",
       "      <td>96</td>\n",
       "      <td>wallaby</td>\n",
       "      <td>1</td>\n",
       "      <td>0</td>\n",
       "      <td>0</td>\n",
       "      <td>1</td>\n",
       "      <td>0</td>\n",
       "      <td>0</td>\n",
       "      <td>0</td>\n",
       "      <td>1</td>\n",
       "      <td>1</td>\n",
       "      <td>0</td>\n",
       "      <td>0</td>\n",
       "      <td>2</td>\n",
       "      <td>1</td>\n",
       "      <td>0</td>\n",
       "      <td>1</td>\n",
       "    </tr>\n",
       "    <tr>\n",
       "      <td>97</td>\n",
       "      <td>wasp</td>\n",
       "      <td>1</td>\n",
       "      <td>0</td>\n",
       "      <td>1</td>\n",
       "      <td>0</td>\n",
       "      <td>1</td>\n",
       "      <td>0</td>\n",
       "      <td>0</td>\n",
       "      <td>0</td>\n",
       "      <td>0</td>\n",
       "      <td>1</td>\n",
       "      <td>0</td>\n",
       "      <td>6</td>\n",
       "      <td>0</td>\n",
       "      <td>0</td>\n",
       "      <td>6</td>\n",
       "    </tr>\n",
       "    <tr>\n",
       "      <td>98</td>\n",
       "      <td>wolf</td>\n",
       "      <td>1</td>\n",
       "      <td>0</td>\n",
       "      <td>0</td>\n",
       "      <td>1</td>\n",
       "      <td>0</td>\n",
       "      <td>0</td>\n",
       "      <td>1</td>\n",
       "      <td>1</td>\n",
       "      <td>1</td>\n",
       "      <td>0</td>\n",
       "      <td>0</td>\n",
       "      <td>4</td>\n",
       "      <td>1</td>\n",
       "      <td>0</td>\n",
       "      <td>1</td>\n",
       "    </tr>\n",
       "    <tr>\n",
       "      <td>99</td>\n",
       "      <td>worm</td>\n",
       "      <td>0</td>\n",
       "      <td>0</td>\n",
       "      <td>1</td>\n",
       "      <td>0</td>\n",
       "      <td>0</td>\n",
       "      <td>0</td>\n",
       "      <td>0</td>\n",
       "      <td>0</td>\n",
       "      <td>0</td>\n",
       "      <td>0</td>\n",
       "      <td>0</td>\n",
       "      <td>0</td>\n",
       "      <td>0</td>\n",
       "      <td>0</td>\n",
       "      <td>7</td>\n",
       "    </tr>\n",
       "    <tr>\n",
       "      <td>100</td>\n",
       "      <td>wren</td>\n",
       "      <td>0</td>\n",
       "      <td>1</td>\n",
       "      <td>1</td>\n",
       "      <td>0</td>\n",
       "      <td>1</td>\n",
       "      <td>0</td>\n",
       "      <td>0</td>\n",
       "      <td>0</td>\n",
       "      <td>1</td>\n",
       "      <td>0</td>\n",
       "      <td>0</td>\n",
       "      <td>2</td>\n",
       "      <td>1</td>\n",
       "      <td>0</td>\n",
       "      <td>2</td>\n",
       "    </tr>\n",
       "  </tbody>\n",
       "</table>\n",
       "<p>101 rows × 16 columns</p>\n",
       "</div>"
      ],
      "text/plain": [
       "    animal_name  hair  feathers  eggs  milk  airborne  aquatic  predator  \\\n",
       "0      aardvark     1         0     0     1         0        0         1   \n",
       "1      antelope     1         0     0     1         0        0         0   \n",
       "2          bass     0         0     1     0         0        1         1   \n",
       "3          bear     1         0     0     1         0        0         1   \n",
       "4          boar     1         0     0     1         0        0         1   \n",
       "..          ...   ...       ...   ...   ...       ...      ...       ...   \n",
       "96      wallaby     1         0     0     1         0        0         0   \n",
       "97         wasp     1         0     1     0         1        0         0   \n",
       "98         wolf     1         0     0     1         0        0         1   \n",
       "99         worm     0         0     1     0         0        0         0   \n",
       "100        wren     0         1     1     0         1        0         0   \n",
       "\n",
       "     toothed  backbone  venomous  fins  legs  tail  domestic  class_type  \n",
       "0          1         1         0     0     4     0         0           1  \n",
       "1          1         1         0     0     4     1         0           1  \n",
       "2          1         1         0     1     0     1         0           4  \n",
       "3          1         1         0     0     4     0         0           1  \n",
       "4          1         1         0     0     4     1         0           1  \n",
       "..       ...       ...       ...   ...   ...   ...       ...         ...  \n",
       "96         1         1         0     0     2     1         0           1  \n",
       "97         0         0         1     0     6     0         0           6  \n",
       "98         1         1         0     0     4     1         0           1  \n",
       "99         0         0         0     0     0     0         0           7  \n",
       "100        0         1         0     0     2     1         0           2  \n",
       "\n",
       "[101 rows x 16 columns]"
      ]
     },
     "execution_count": 35,
     "metadata": {},
     "output_type": "execute_result"
    }
   ],
   "source": [
    "data.drop(['catsize','breathes'], axis = 1) # выбрасим столбцы catsize, breathes"
   ]
  },
  {
   "cell_type": "markdown",
   "metadata": {},
   "source": [
    "# Готовим данные"
   ]
  },
  {
   "cell_type": "code",
   "execution_count": 36,
   "metadata": {},
   "outputs": [
    {
     "data": {
      "text/plain": [
       "'object'"
      ]
     },
     "execution_count": 36,
     "metadata": {},
     "output_type": "execute_result"
    }
   ],
   "source": [
    "data['animal_name'].dtype.name"
   ]
  },
  {
   "cell_type": "code",
   "execution_count": 37,
   "metadata": {},
   "outputs": [
    {
     "data": {
      "text/plain": [
       "'int64'"
      ]
     },
     "execution_count": 37,
     "metadata": {},
     "output_type": "execute_result"
    }
   ],
   "source": [
    "data['legs'].dtype.name"
   ]
  },
  {
   "cell_type": "code",
   "execution_count": 25,
   "metadata": {},
   "outputs": [
    {
     "name": "stdout",
     "output_type": "stream",
     "text": [
      "['animal_name']\n",
      "['hair', 'feathers', 'eggs', 'milk', 'airborne', 'aquatic', 'predator', 'toothed', 'backbone', 'breathes', 'venomous', 'fins', 'legs', 'tail', 'domestic', 'catsize', 'class_type']\n"
     ]
    }
   ],
   "source": [
    "categorical_columns = [c for c in data.columns if data[c].dtype.name == 'object']  # категориальные признаки\n",
    "numerical_columns   = [c for c in data.columns if data[c].dtype.name != 'object']  # числовые признаки\n",
    "print(categorical_columns)\n",
    "print(numerical_columns)"
   ]
  },
  {
   "cell_type": "code",
   "execution_count": 26,
   "metadata": {},
   "outputs": [
    {
     "name": "stdout",
     "output_type": "stream",
     "text": [
      "animal_name ['aardvark' 'antelope' 'bass' 'bear' 'boar' 'buffalo' 'calf' 'carp'\n",
      " 'catfish' 'cavy' 'cheetah' 'chicken' 'chub' 'clam' 'crab' 'crayfish'\n",
      " 'crow' 'deer' 'dogfish' 'dolphin' 'dove' 'duck' 'elephant' 'flamingo'\n",
      " 'flea' 'frog' 'fruitbat' 'giraffe' 'girl' 'gnat' 'goat' 'gorilla' 'gull'\n",
      " 'haddock' 'hamster' 'hare' 'hawk' 'herring' 'honeybee' 'housefly' 'kiwi'\n",
      " 'ladybird' 'lark' 'leopard' 'lion' 'lobster' 'lynx' 'mink' 'mole'\n",
      " 'mongoose' 'moth' 'newt' 'octopus' 'opossum' 'oryx' 'ostrich' 'parakeet'\n",
      " 'penguin' 'pheasant' 'pike' 'piranha' 'pitviper' 'platypus' 'polecat'\n",
      " 'pony' 'porpoise' 'puma' 'pussycat' 'raccoon' 'reindeer' 'rhea'\n",
      " 'scorpion' 'seahorse' 'seal' 'sealion' 'seasnake' 'seawasp' 'skimmer'\n",
      " 'skua' 'slowworm' 'slug' 'sole' 'sparrow' 'squirrel' 'starfish'\n",
      " 'stingray' 'swan' 'termite' 'toad' 'tortoise' 'tuatara' 'tuna' 'vampire'\n",
      " 'vole' 'vulture' 'wallaby' 'wasp' 'wolf' 'worm' 'wren']\n"
     ]
    }
   ],
   "source": [
    "for c in categorical_columns:\n",
    "    print(c, data[c].unique())"
   ]
  },
  {
   "cell_type": "markdown",
   "metadata": {},
   "source": [
    "## Обрабатываем пропущенные значения\n",
    "\n",
    "Проверим, есть ли пропущенные данные в датасете"
   ]
  },
  {
   "cell_type": "code",
   "execution_count": 40,
   "metadata": {},
   "outputs": [
    {
     "data": {
      "text/plain": [
       "hair          0.0\n",
       "feathers      0.0\n",
       "eggs          1.0\n",
       "milk          0.0\n",
       "airborne      0.0\n",
       "aquatic       0.0\n",
       "predator      1.0\n",
       "toothed       1.0\n",
       "backbone      1.0\n",
       "breathes      1.0\n",
       "venomous      0.0\n",
       "fins          0.0\n",
       "legs          4.0\n",
       "tail          1.0\n",
       "domestic      0.0\n",
       "catsize       0.0\n",
       "class_type    2.0\n",
       "dtype: float64"
      ]
     },
     "execution_count": 40,
     "metadata": {},
     "output_type": "execute_result"
    }
   ],
   "source": [
    "data.median(axis = 0)"
   ]
  },
  {
   "cell_type": "code",
   "execution_count": 41,
   "metadata": {},
   "outputs": [
    {
     "data": {
      "text/plain": [
       "hair          101\n",
       "feathers      101\n",
       "eggs          101\n",
       "milk          101\n",
       "airborne      101\n",
       "aquatic       101\n",
       "predator      101\n",
       "toothed       101\n",
       "backbone      101\n",
       "breathes      101\n",
       "venomous      101\n",
       "fins          101\n",
       "legs          101\n",
       "tail          101\n",
       "domestic      101\n",
       "catsize       101\n",
       "class_type    101\n",
       "dtype: int64"
      ]
     },
     "execution_count": 41,
     "metadata": {},
     "output_type": "execute_result"
    }
   ],
   "source": [
    "data[numerical_columns].count(axis = 0)"
   ]
  },
  {
   "cell_type": "code",
   "execution_count": 42,
   "metadata": {},
   "outputs": [
    {
     "data": {
      "text/plain": [
       "animal_name    101\n",
       "dtype: int64"
      ]
     },
     "execution_count": 42,
     "metadata": {},
     "output_type": "execute_result"
    }
   ],
   "source": [
    "data[categorical_columns].count(axis = 0)"
   ]
  },
  {
   "cell_type": "markdown",
   "metadata": {},
   "source": [
    "Пропущенных значений нет."
   ]
  },
  {
   "cell_type": "markdown",
   "metadata": {},
   "source": [
    "## Векторизация\n",
    "\n",
    "Нужно что-то сделать с категориальными (номинальными) признаками"
   ]
  },
  {
   "cell_type": "code",
   "execution_count": 27,
   "metadata": {},
   "outputs": [
    {
     "name": "stdout",
     "output_type": "stream",
     "text": [
      "       animal_name\n",
      "count          101\n",
      "unique         100\n",
      "top           frog\n",
      "freq             2\n"
     ]
    }
   ],
   "source": [
    "data_describe = data.describe(include = [object])\n",
    "print(data_describe)"
   ]
  },
  {
   "cell_type": "code",
   "execution_count": 28,
   "metadata": {},
   "outputs": [
    {
     "name": "stdout",
     "output_type": "stream",
     "text": [
      "[] ['animal_name']\n"
     ]
    }
   ],
   "source": [
    "binary_columns    = [c for c in categorical_columns if data_describe[c]['unique'] == 2]\n",
    "nonbinary_columns = [c for c in categorical_columns if data_describe[c]['unique'] > 2]\n",
    "print(binary_columns, nonbinary_columns)"
   ]
  },
  {
   "cell_type": "markdown",
   "metadata": {},
   "source": [
    "Бинарных признаков нет, один небинарный - animal_name"
   ]
  },
  {
   "cell_type": "code",
   "execution_count": 47,
   "metadata": {},
   "outputs": [
    {
     "data": {
      "text/plain": [
       "array(['aardvark', 'antelope', 'bass', 'bear', 'boar', 'buffalo', 'calf',\n",
       "       'carp', 'catfish', 'cavy', 'cheetah', 'chicken', 'chub', 'clam',\n",
       "       'crab', 'crayfish', 'crow', 'deer', 'dogfish', 'dolphin', 'dove',\n",
       "       'duck', 'elephant', 'flamingo', 'flea', 'frog', 'fruitbat',\n",
       "       'giraffe', 'girl', 'gnat', 'goat', 'gorilla', 'gull', 'haddock',\n",
       "       'hamster', 'hare', 'hawk', 'herring', 'honeybee', 'housefly',\n",
       "       'kiwi', 'ladybird', 'lark', 'leopard', 'lion', 'lobster', 'lynx',\n",
       "       'mink', 'mole', 'mongoose', 'moth', 'newt', 'octopus', 'opossum',\n",
       "       'oryx', 'ostrich', 'parakeet', 'penguin', 'pheasant', 'pike',\n",
       "       'piranha', 'pitviper', 'platypus', 'polecat', 'pony', 'porpoise',\n",
       "       'puma', 'pussycat', 'raccoon', 'reindeer', 'rhea', 'scorpion',\n",
       "       'seahorse', 'seal', 'sealion', 'seasnake', 'seawasp', 'skimmer',\n",
       "       'skua', 'slowworm', 'slug', 'sole', 'sparrow', 'squirrel',\n",
       "       'starfish', 'stingray', 'swan', 'termite', 'toad', 'tortoise',\n",
       "       'tuatara', 'tuna', 'vampire', 'vole', 'vulture', 'wallaby', 'wasp',\n",
       "       'wolf', 'worm', 'wren'], dtype=object)"
      ]
     },
     "execution_count": 47,
     "metadata": {},
     "output_type": "execute_result"
    }
   ],
   "source": [
    "data['animal_name'].unique()"
   ]
  },
  {
   "cell_type": "markdown",
   "metadata": {},
   "source": [
    "К небинарными признакам применим метод _векторизации_, \n",
    "который заключается в следующем.\n",
    "\n",
    "Признак `j`, принимающий `s` значений, заменим на `s` признаков, принимащих значения `0` или `1`,\n",
    "в зависимости от того, чему равно значение исходного признака `j`.\n",
    "\n",
    "В данной задаче признак `animal_name` принимает 101 значение: "
   ]
  },
  {
   "cell_type": "markdown",
   "metadata": {},
   "source": [
    "Можно заменить признак `animal_name` 101 признаком: `animal_name_aardvark`, `animal_name_antelope`, ..., `animal_name_duck`... .\n",
    "\n",
    " - Если признак `animal_name` принимает значение `aardvark`, то признак `animal_name_aardvark` равен `1`, а все остальные равны `0`.\n",
    " - Если признак `animal_name` принимает значение `antelope`, то признак `animal_name_antelope` равен `1`, а все остальные равны `0`.\n",
    " - и т.д.\n",
    " Однако добавление 100 признаков вместо одного сильно увеличивает размерность задачи, лучше найти другой способ обработки таких данных.\n"
   ]
  },
  {
   "cell_type": "code",
   "execution_count": 29,
   "metadata": {},
   "outputs": [
    {
     "name": "stdout",
     "output_type": "stream",
     "text": [
      "Index(['animal_name_aardvark', 'animal_name_antelope', 'animal_name_bass',\n",
      "       'animal_name_bear', 'animal_name_boar', 'animal_name_buffalo',\n",
      "       'animal_name_calf', 'animal_name_carp', 'animal_name_catfish',\n",
      "       'animal_name_cavy', 'animal_name_cheetah', 'animal_name_chicken',\n",
      "       'animal_name_chub', 'animal_name_clam', 'animal_name_crab',\n",
      "       'animal_name_crayfish', 'animal_name_crow', 'animal_name_deer',\n",
      "       'animal_name_dogfish', 'animal_name_dolphin', 'animal_name_dove',\n",
      "       'animal_name_duck', 'animal_name_elephant', 'animal_name_flamingo',\n",
      "       'animal_name_flea', 'animal_name_frog', 'animal_name_fruitbat',\n",
      "       'animal_name_giraffe', 'animal_name_girl', 'animal_name_gnat',\n",
      "       'animal_name_goat', 'animal_name_gorilla', 'animal_name_gull',\n",
      "       'animal_name_haddock', 'animal_name_hamster', 'animal_name_hare',\n",
      "       'animal_name_hawk', 'animal_name_herring', 'animal_name_honeybee',\n",
      "       'animal_name_housefly', 'animal_name_kiwi', 'animal_name_ladybird',\n",
      "       'animal_name_lark', 'animal_name_leopard', 'animal_name_lion',\n",
      "       'animal_name_lobster', 'animal_name_lynx', 'animal_name_mink',\n",
      "       'animal_name_mole', 'animal_name_mongoose', 'animal_name_moth',\n",
      "       'animal_name_newt', 'animal_name_octopus', 'animal_name_opossum',\n",
      "       'animal_name_oryx', 'animal_name_ostrich', 'animal_name_parakeet',\n",
      "       'animal_name_penguin', 'animal_name_pheasant', 'animal_name_pike',\n",
      "       'animal_name_piranha', 'animal_name_pitviper', 'animal_name_platypus',\n",
      "       'animal_name_polecat', 'animal_name_pony', 'animal_name_porpoise',\n",
      "       'animal_name_puma', 'animal_name_pussycat', 'animal_name_raccoon',\n",
      "       'animal_name_reindeer', 'animal_name_rhea', 'animal_name_scorpion',\n",
      "       'animal_name_seahorse', 'animal_name_seal', 'animal_name_sealion',\n",
      "       'animal_name_seasnake', 'animal_name_seawasp', 'animal_name_skimmer',\n",
      "       'animal_name_skua', 'animal_name_slowworm', 'animal_name_slug',\n",
      "       'animal_name_sole', 'animal_name_sparrow', 'animal_name_squirrel',\n",
      "       'animal_name_starfish', 'animal_name_stingray', 'animal_name_swan',\n",
      "       'animal_name_termite', 'animal_name_toad', 'animal_name_tortoise',\n",
      "       'animal_name_tuatara', 'animal_name_tuna', 'animal_name_vampire',\n",
      "       'animal_name_vole', 'animal_name_vulture', 'animal_name_wallaby',\n",
      "       'animal_name_wasp', 'animal_name_wolf', 'animal_name_worm',\n",
      "       'animal_name_wren'],\n",
      "      dtype='object')\n"
     ]
    }
   ],
   "source": [
    "data_nonbinary = pd.get_dummies(data[nonbinary_columns])\n",
    "print(data_nonbinary.columns)"
   ]
  },
  {
   "cell_type": "markdown",
   "metadata": {},
   "source": [
    "## Нормализация количественных признаков\n",
    "\n",
    "Все количественные признаки, кроме `class_type`, `legs`, принимают значения 0 или 1.\n",
    "Признак `legs` приведем к нулевому среднему и единичному среднеквадратичному отклонению:"
   ]
  },
  {
   "cell_type": "code",
   "execution_count": 30,
   "metadata": {},
   "outputs": [
    {
     "data": {
      "text/plain": [
       "count    101.000000\n",
       "mean       2.841584\n",
       "std        2.033385\n",
       "min        0.000000\n",
       "25%        2.000000\n",
       "50%        4.000000\n",
       "75%        4.000000\n",
       "max        8.000000\n",
       "Name: legs, dtype: float64"
      ]
     },
     "execution_count": 30,
     "metadata": {},
     "output_type": "execute_result"
    }
   ],
   "source": [
    "legs_data = data['legs']\n",
    "legs_data.describe()"
   ]
  },
  {
   "cell_type": "code",
   "execution_count": 31,
   "metadata": {},
   "outputs": [],
   "source": [
    "legs_data = (legs_data - legs_data.mean(axis = 0))/legs_data.std(axis = 0)"
   ]
  },
  {
   "cell_type": "code",
   "execution_count": 32,
   "metadata": {},
   "outputs": [
    {
     "data": {
      "text/plain": [
       "count    1.010000e+02\n",
       "mean     7.694615e-17\n",
       "std      1.000000e+00\n",
       "min     -1.397465e+00\n",
       "25%     -4.138834e-01\n",
       "50%      5.696983e-01\n",
       "75%      5.696983e-01\n",
       "max      2.536862e+00\n",
       "Name: legs, dtype: float64"
      ]
     },
     "execution_count": 32,
     "metadata": {},
     "output_type": "execute_result"
    }
   ],
   "source": [
    "legs_data.describe()"
   ]
  },
  {
   "cell_type": "markdown",
   "metadata": {},
   "source": [
    "## Соединяем все в одну таблицу"
   ]
  },
  {
   "cell_type": "code",
   "execution_count": 33,
   "metadata": {},
   "outputs": [
    {
     "name": "stdout",
     "output_type": "stream",
     "text": [
      "(101, 117)\n"
     ]
    }
   ],
   "source": [
    "data['legs'] = legs_data\n",
    "data = data.drop(('animal_name'), axis=1)\n",
    "data = pd.concat((data, data_nonbinary), axis=1)\n",
    "data1 = data.drop(data_nonbinary.columns, axis=1)\n",
    "print(data.shape)"
   ]
  },
  {
   "cell_type": "code",
   "execution_count": 34,
   "metadata": {},
   "outputs": [
    {
     "data": {
      "text/html": [
       "<div>\n",
       "<style scoped>\n",
       "    .dataframe tbody tr th:only-of-type {\n",
       "        vertical-align: middle;\n",
       "    }\n",
       "\n",
       "    .dataframe tbody tr th {\n",
       "        vertical-align: top;\n",
       "    }\n",
       "\n",
       "    .dataframe thead th {\n",
       "        text-align: right;\n",
       "    }\n",
       "</style>\n",
       "<table border=\"1\" class=\"dataframe\">\n",
       "  <thead>\n",
       "    <tr style=\"text-align: right;\">\n",
       "      <th></th>\n",
       "      <th>hair</th>\n",
       "      <th>feathers</th>\n",
       "      <th>eggs</th>\n",
       "      <th>milk</th>\n",
       "      <th>airborne</th>\n",
       "      <th>aquatic</th>\n",
       "      <th>predator</th>\n",
       "      <th>toothed</th>\n",
       "      <th>backbone</th>\n",
       "      <th>breathes</th>\n",
       "      <th>...</th>\n",
       "      <th>animal_name_tuatara</th>\n",
       "      <th>animal_name_tuna</th>\n",
       "      <th>animal_name_vampire</th>\n",
       "      <th>animal_name_vole</th>\n",
       "      <th>animal_name_vulture</th>\n",
       "      <th>animal_name_wallaby</th>\n",
       "      <th>animal_name_wasp</th>\n",
       "      <th>animal_name_wolf</th>\n",
       "      <th>animal_name_worm</th>\n",
       "      <th>animal_name_wren</th>\n",
       "    </tr>\n",
       "  </thead>\n",
       "  <tbody>\n",
       "    <tr>\n",
       "      <th>count</th>\n",
       "      <td>101.000000</td>\n",
       "      <td>101.000000</td>\n",
       "      <td>101.000000</td>\n",
       "      <td>101.000000</td>\n",
       "      <td>101.000000</td>\n",
       "      <td>101.000000</td>\n",
       "      <td>101.000000</td>\n",
       "      <td>101.000000</td>\n",
       "      <td>101.000000</td>\n",
       "      <td>101.000000</td>\n",
       "      <td>...</td>\n",
       "      <td>101.000000</td>\n",
       "      <td>101.000000</td>\n",
       "      <td>101.000000</td>\n",
       "      <td>101.000000</td>\n",
       "      <td>101.000000</td>\n",
       "      <td>101.000000</td>\n",
       "      <td>101.000000</td>\n",
       "      <td>101.000000</td>\n",
       "      <td>101.000000</td>\n",
       "      <td>101.000000</td>\n",
       "    </tr>\n",
       "    <tr>\n",
       "      <th>mean</th>\n",
       "      <td>0.425743</td>\n",
       "      <td>0.198020</td>\n",
       "      <td>0.584158</td>\n",
       "      <td>0.405941</td>\n",
       "      <td>0.237624</td>\n",
       "      <td>0.356436</td>\n",
       "      <td>0.554455</td>\n",
       "      <td>0.603960</td>\n",
       "      <td>0.821782</td>\n",
       "      <td>0.792079</td>\n",
       "      <td>...</td>\n",
       "      <td>0.009901</td>\n",
       "      <td>0.009901</td>\n",
       "      <td>0.009901</td>\n",
       "      <td>0.009901</td>\n",
       "      <td>0.009901</td>\n",
       "      <td>0.009901</td>\n",
       "      <td>0.009901</td>\n",
       "      <td>0.009901</td>\n",
       "      <td>0.009901</td>\n",
       "      <td>0.009901</td>\n",
       "    </tr>\n",
       "    <tr>\n",
       "      <th>std</th>\n",
       "      <td>0.496921</td>\n",
       "      <td>0.400495</td>\n",
       "      <td>0.495325</td>\n",
       "      <td>0.493522</td>\n",
       "      <td>0.427750</td>\n",
       "      <td>0.481335</td>\n",
       "      <td>0.499505</td>\n",
       "      <td>0.491512</td>\n",
       "      <td>0.384605</td>\n",
       "      <td>0.407844</td>\n",
       "      <td>...</td>\n",
       "      <td>0.099504</td>\n",
       "      <td>0.099504</td>\n",
       "      <td>0.099504</td>\n",
       "      <td>0.099504</td>\n",
       "      <td>0.099504</td>\n",
       "      <td>0.099504</td>\n",
       "      <td>0.099504</td>\n",
       "      <td>0.099504</td>\n",
       "      <td>0.099504</td>\n",
       "      <td>0.099504</td>\n",
       "    </tr>\n",
       "    <tr>\n",
       "      <th>min</th>\n",
       "      <td>0.000000</td>\n",
       "      <td>0.000000</td>\n",
       "      <td>0.000000</td>\n",
       "      <td>0.000000</td>\n",
       "      <td>0.000000</td>\n",
       "      <td>0.000000</td>\n",
       "      <td>0.000000</td>\n",
       "      <td>0.000000</td>\n",
       "      <td>0.000000</td>\n",
       "      <td>0.000000</td>\n",
       "      <td>...</td>\n",
       "      <td>0.000000</td>\n",
       "      <td>0.000000</td>\n",
       "      <td>0.000000</td>\n",
       "      <td>0.000000</td>\n",
       "      <td>0.000000</td>\n",
       "      <td>0.000000</td>\n",
       "      <td>0.000000</td>\n",
       "      <td>0.000000</td>\n",
       "      <td>0.000000</td>\n",
       "      <td>0.000000</td>\n",
       "    </tr>\n",
       "    <tr>\n",
       "      <th>25%</th>\n",
       "      <td>0.000000</td>\n",
       "      <td>0.000000</td>\n",
       "      <td>0.000000</td>\n",
       "      <td>0.000000</td>\n",
       "      <td>0.000000</td>\n",
       "      <td>0.000000</td>\n",
       "      <td>0.000000</td>\n",
       "      <td>0.000000</td>\n",
       "      <td>1.000000</td>\n",
       "      <td>1.000000</td>\n",
       "      <td>...</td>\n",
       "      <td>0.000000</td>\n",
       "      <td>0.000000</td>\n",
       "      <td>0.000000</td>\n",
       "      <td>0.000000</td>\n",
       "      <td>0.000000</td>\n",
       "      <td>0.000000</td>\n",
       "      <td>0.000000</td>\n",
       "      <td>0.000000</td>\n",
       "      <td>0.000000</td>\n",
       "      <td>0.000000</td>\n",
       "    </tr>\n",
       "    <tr>\n",
       "      <th>50%</th>\n",
       "      <td>0.000000</td>\n",
       "      <td>0.000000</td>\n",
       "      <td>1.000000</td>\n",
       "      <td>0.000000</td>\n",
       "      <td>0.000000</td>\n",
       "      <td>0.000000</td>\n",
       "      <td>1.000000</td>\n",
       "      <td>1.000000</td>\n",
       "      <td>1.000000</td>\n",
       "      <td>1.000000</td>\n",
       "      <td>...</td>\n",
       "      <td>0.000000</td>\n",
       "      <td>0.000000</td>\n",
       "      <td>0.000000</td>\n",
       "      <td>0.000000</td>\n",
       "      <td>0.000000</td>\n",
       "      <td>0.000000</td>\n",
       "      <td>0.000000</td>\n",
       "      <td>0.000000</td>\n",
       "      <td>0.000000</td>\n",
       "      <td>0.000000</td>\n",
       "    </tr>\n",
       "    <tr>\n",
       "      <th>75%</th>\n",
       "      <td>1.000000</td>\n",
       "      <td>0.000000</td>\n",
       "      <td>1.000000</td>\n",
       "      <td>1.000000</td>\n",
       "      <td>0.000000</td>\n",
       "      <td>1.000000</td>\n",
       "      <td>1.000000</td>\n",
       "      <td>1.000000</td>\n",
       "      <td>1.000000</td>\n",
       "      <td>1.000000</td>\n",
       "      <td>...</td>\n",
       "      <td>0.000000</td>\n",
       "      <td>0.000000</td>\n",
       "      <td>0.000000</td>\n",
       "      <td>0.000000</td>\n",
       "      <td>0.000000</td>\n",
       "      <td>0.000000</td>\n",
       "      <td>0.000000</td>\n",
       "      <td>0.000000</td>\n",
       "      <td>0.000000</td>\n",
       "      <td>0.000000</td>\n",
       "    </tr>\n",
       "    <tr>\n",
       "      <th>max</th>\n",
       "      <td>1.000000</td>\n",
       "      <td>1.000000</td>\n",
       "      <td>1.000000</td>\n",
       "      <td>1.000000</td>\n",
       "      <td>1.000000</td>\n",
       "      <td>1.000000</td>\n",
       "      <td>1.000000</td>\n",
       "      <td>1.000000</td>\n",
       "      <td>1.000000</td>\n",
       "      <td>1.000000</td>\n",
       "      <td>...</td>\n",
       "      <td>1.000000</td>\n",
       "      <td>1.000000</td>\n",
       "      <td>1.000000</td>\n",
       "      <td>1.000000</td>\n",
       "      <td>1.000000</td>\n",
       "      <td>1.000000</td>\n",
       "      <td>1.000000</td>\n",
       "      <td>1.000000</td>\n",
       "      <td>1.000000</td>\n",
       "      <td>1.000000</td>\n",
       "    </tr>\n",
       "  </tbody>\n",
       "</table>\n",
       "<p>8 rows × 117 columns</p>\n",
       "</div>"
      ],
      "text/plain": [
       "             hair    feathers        eggs        milk    airborne     aquatic  \\\n",
       "count  101.000000  101.000000  101.000000  101.000000  101.000000  101.000000   \n",
       "mean     0.425743    0.198020    0.584158    0.405941    0.237624    0.356436   \n",
       "std      0.496921    0.400495    0.495325    0.493522    0.427750    0.481335   \n",
       "min      0.000000    0.000000    0.000000    0.000000    0.000000    0.000000   \n",
       "25%      0.000000    0.000000    0.000000    0.000000    0.000000    0.000000   \n",
       "50%      0.000000    0.000000    1.000000    0.000000    0.000000    0.000000   \n",
       "75%      1.000000    0.000000    1.000000    1.000000    0.000000    1.000000   \n",
       "max      1.000000    1.000000    1.000000    1.000000    1.000000    1.000000   \n",
       "\n",
       "         predator     toothed    backbone    breathes  ...  \\\n",
       "count  101.000000  101.000000  101.000000  101.000000  ...   \n",
       "mean     0.554455    0.603960    0.821782    0.792079  ...   \n",
       "std      0.499505    0.491512    0.384605    0.407844  ...   \n",
       "min      0.000000    0.000000    0.000000    0.000000  ...   \n",
       "25%      0.000000    0.000000    1.000000    1.000000  ...   \n",
       "50%      1.000000    1.000000    1.000000    1.000000  ...   \n",
       "75%      1.000000    1.000000    1.000000    1.000000  ...   \n",
       "max      1.000000    1.000000    1.000000    1.000000  ...   \n",
       "\n",
       "       animal_name_tuatara  animal_name_tuna  animal_name_vampire  \\\n",
       "count           101.000000        101.000000           101.000000   \n",
       "mean              0.009901          0.009901             0.009901   \n",
       "std               0.099504          0.099504             0.099504   \n",
       "min               0.000000          0.000000             0.000000   \n",
       "25%               0.000000          0.000000             0.000000   \n",
       "50%               0.000000          0.000000             0.000000   \n",
       "75%               0.000000          0.000000             0.000000   \n",
       "max               1.000000          1.000000             1.000000   \n",
       "\n",
       "       animal_name_vole  animal_name_vulture  animal_name_wallaby  \\\n",
       "count        101.000000           101.000000           101.000000   \n",
       "mean           0.009901             0.009901             0.009901   \n",
       "std            0.099504             0.099504             0.099504   \n",
       "min            0.000000             0.000000             0.000000   \n",
       "25%            0.000000             0.000000             0.000000   \n",
       "50%            0.000000             0.000000             0.000000   \n",
       "75%            0.000000             0.000000             0.000000   \n",
       "max            1.000000             1.000000             1.000000   \n",
       "\n",
       "       animal_name_wasp  animal_name_wolf  animal_name_worm  animal_name_wren  \n",
       "count        101.000000        101.000000        101.000000        101.000000  \n",
       "mean           0.009901          0.009901          0.009901          0.009901  \n",
       "std            0.099504          0.099504          0.099504          0.099504  \n",
       "min            0.000000          0.000000          0.000000          0.000000  \n",
       "25%            0.000000          0.000000          0.000000          0.000000  \n",
       "50%            0.000000          0.000000          0.000000          0.000000  \n",
       "75%            0.000000          0.000000          0.000000          0.000000  \n",
       "max            1.000000          1.000000          1.000000          1.000000  \n",
       "\n",
       "[8 rows x 117 columns]"
      ]
     },
     "execution_count": 34,
     "metadata": {},
     "output_type": "execute_result"
    }
   ],
   "source": [
    "data.describe()"
   ]
  },
  {
   "cell_type": "code",
   "execution_count": 35,
   "metadata": {},
   "outputs": [
    {
     "data": {
      "text/plain": [
       "Index(['hair', 'feathers', 'eggs', 'milk', 'airborne', 'aquatic', 'predator',\n",
       "       'toothed', 'backbone', 'breathes',\n",
       "       ...\n",
       "       'animal_name_tuatara', 'animal_name_tuna', 'animal_name_vampire',\n",
       "       'animal_name_vole', 'animal_name_vulture', 'animal_name_wallaby',\n",
       "       'animal_name_wasp', 'animal_name_wolf', 'animal_name_worm',\n",
       "       'animal_name_wren'],\n",
       "      dtype='object', length=117)"
      ]
     },
     "execution_count": 35,
     "metadata": {},
     "output_type": "execute_result"
    }
   ],
   "source": [
    "data.columns"
   ]
  },
  {
   "cell_type": "markdown",
   "metadata": {},
   "source": [
    "# X и y"
   ]
  },
  {
   "cell_type": "code",
   "execution_count": 36,
   "metadata": {},
   "outputs": [],
   "source": [
    "X = data.drop(('class_type'), axis = 1) # выбрасываем столбец 'class_type', будем использовать как ответы.\n",
    "y = data['class_type']\n",
    "feature_names = X.columns\n",
    "#X1 = data1.drop(('class_type'), axis = 1)"
   ]
  },
  {
   "cell_type": "code",
   "execution_count": 37,
   "metadata": {},
   "outputs": [
    {
     "data": {
      "text/plain": [
       "pandas.core.indexes.base.Index"
      ]
     },
     "execution_count": 37,
     "metadata": {},
     "output_type": "execute_result"
    }
   ],
   "source": [
    "type(feature_names)"
   ]
  },
  {
   "cell_type": "code",
   "execution_count": 38,
   "metadata": {},
   "outputs": [
    {
     "data": {
      "text/plain": [
       "Index(['hair', 'feathers', 'eggs', 'milk', 'airborne', 'aquatic', 'predator',\n",
       "       'toothed', 'backbone', 'breathes',\n",
       "       ...\n",
       "       'animal_name_tuatara', 'animal_name_tuna', 'animal_name_vampire',\n",
       "       'animal_name_vole', 'animal_name_vulture', 'animal_name_wallaby',\n",
       "       'animal_name_wasp', 'animal_name_wolf', 'animal_name_worm',\n",
       "       'animal_name_wren'],\n",
       "      dtype='object', length=116)"
      ]
     },
     "execution_count": 38,
     "metadata": {},
     "output_type": "execute_result"
    }
   ],
   "source": [
    "feature_names"
   ]
  },
  {
   "cell_type": "code",
   "execution_count": 39,
   "metadata": {},
   "outputs": [
    {
     "name": "stdout",
     "output_type": "stream",
     "text": [
      "(101, 116)\n",
      "(101,)\n"
     ]
    }
   ],
   "source": [
    "print(X.shape)\n",
    "print(y.shape)\n",
    "N, d = X.shape"
   ]
  },
  {
   "cell_type": "code",
   "execution_count": 40,
   "metadata": {},
   "outputs": [
    {
     "data": {
      "text/plain": [
       "pandas.core.frame.DataFrame"
      ]
     },
     "execution_count": 40,
     "metadata": {},
     "output_type": "execute_result"
    }
   ],
   "source": [
    "type(X)"
   ]
  },
  {
   "cell_type": "code",
   "execution_count": 41,
   "metadata": {},
   "outputs": [
    {
     "data": {
      "text/plain": [
       "pandas.core.series.Series"
      ]
     },
     "execution_count": 41,
     "metadata": {},
     "output_type": "execute_result"
    }
   ],
   "source": [
    "type(y)"
   ]
  },
  {
   "cell_type": "code",
   "execution_count": 75,
   "metadata": {},
   "outputs": [
    {
     "name": "stdout",
     "output_type": "stream",
     "text": [
      "70 31\n"
     ]
    }
   ],
   "source": [
    "from sklearn.model_selection import train_test_split\n",
    "X_train, X_test, y_train, y_test = train_test_split(X, y, test_size = 0.3, random_state = 23)\n",
    "\n",
    "N_train, _ = X_train.shape \n",
    "N_test,  _ = X_test.shape \n",
    "\n",
    "print(N_train, N_test)"
   ]
  },
  {
   "cell_type": "code",
   "execution_count": 76,
   "metadata": {},
   "outputs": [
    {
     "data": {
      "text/plain": [
       "101"
      ]
     },
     "execution_count": 76,
     "metadata": {},
     "output_type": "execute_result"
    }
   ],
   "source": [
    "70+31"
   ]
  },
  {
   "cell_type": "markdown",
   "metadata": {},
   "source": [
    "# $k$NN"
   ]
  },
  {
   "cell_type": "code",
   "execution_count": 77,
   "metadata": {},
   "outputs": [
    {
     "data": {
      "text/plain": [
       "KNeighborsClassifier(algorithm='auto', leaf_size=30, metric='minkowski',\n",
       "                     metric_params=None, n_jobs=None, n_neighbors=5, p=2,\n",
       "                     weights='uniform')"
      ]
     },
     "execution_count": 77,
     "metadata": {},
     "output_type": "execute_result"
    }
   ],
   "source": [
    "from sklearn.neighbors import KNeighborsClassifier\n",
    "\n",
    "knn = KNeighborsClassifier(n_neighbors = 5)\n",
    "knn.fit(X_train.astype('int'), y_train.astype('int'))"
   ]
  },
  {
   "cell_type": "code",
   "execution_count": 78,
   "metadata": {},
   "outputs": [
    {
     "data": {
      "text/plain": [
       "KNeighborsClassifier(algorithm='auto', leaf_size=30, metric='minkowski',\n",
       "                     metric_params=None, n_jobs=None, n_neighbors=5, p=2,\n",
       "                     weights='uniform')"
      ]
     },
     "execution_count": 78,
     "metadata": {},
     "output_type": "execute_result"
    }
   ],
   "source": [
    "knn"
   ]
  },
  {
   "cell_type": "code",
   "execution_count": 79,
   "metadata": {},
   "outputs": [
    {
     "name": "stdout",
     "output_type": "stream",
     "text": [
      "0.05714285714285714 0.12903225806451613\n"
     ]
    }
   ],
   "source": [
    "y_train_predict = knn.predict(X_train)\n",
    "y_test_predict = knn.predict(X_test)\n",
    "\n",
    "err_train = np.mean(y_train != y_train_predict)\n",
    "err_test  = np.mean(y_test  != y_test_predict)\n",
    "\n",
    "print(err_train, err_test)"
   ]
  },
  {
   "cell_type": "code",
   "execution_count": 49,
   "metadata": {},
   "outputs": [],
   "source": [
    "err_test = 1 - knn.score(X_test, y_test) # Другой способ оценки"
   ]
  },
  {
   "cell_type": "code",
   "execution_count": 50,
   "metadata": {},
   "outputs": [
    {
     "data": {
      "text/plain": [
       "0.032258064516129004"
      ]
     },
     "execution_count": 50,
     "metadata": {},
     "output_type": "execute_result"
    }
   ],
   "source": [
    "err_test"
   ]
  },
  {
   "cell_type": "code",
   "execution_count": 51,
   "metadata": {},
   "outputs": [
    {
     "name": "stdout",
     "output_type": "stream",
     "text": [
      "[[15  0  0  0  0  0  0]\n",
      " [ 0  3  0  0  0  0  0]\n",
      " [ 0  0  0  1  0  0  0]\n",
      " [ 0  0  0  2  0  0  0]\n",
      " [ 0  0  0  0  2  0  0]\n",
      " [ 0  0  0  0  0  5  0]\n",
      " [ 0  0  0  0  0  0  3]]\n"
     ]
    }
   ],
   "source": [
    "from sklearn.metrics import confusion_matrix\n",
    "\n",
    "print(confusion_matrix(y_test, y_test_predict))"
   ]
  },
  {
   "cell_type": "code",
   "execution_count": 52,
   "metadata": {},
   "outputs": [
    {
     "data": {
      "text/plain": [
       "array([[3, 0],\n",
       "       [1, 1]], dtype=int64)"
      ]
     },
     "execution_count": 52,
     "metadata": {},
     "output_type": "execute_result"
    }
   ],
   "source": [
    "confusion_matrix([0,1,0,1,0], [0,1,0,0,0])"
   ]
  },
  {
   "cell_type": "markdown",
   "metadata": {},
   "source": [
    "### Подбор параметров"
   ]
  },
  {
   "cell_type": "code",
   "execution_count": 80,
   "metadata": {},
   "outputs": [
    {
     "name": "stderr",
     "output_type": "stream",
     "text": [
      "c:\\python36\\lib\\site-packages\\sklearn\\model_selection\\_split.py:657: Warning: The least populated class in y has only 3 members, which is too few. The minimum number of members in any class cannot be less than n_splits=10.\n",
      "  % (min_groups, self.n_splits)), Warning)\n"
     ]
    },
    {
     "name": "stdout",
     "output_type": "stream",
     "text": [
      "0.042857142857142816 1\n"
     ]
    },
    {
     "name": "stderr",
     "output_type": "stream",
     "text": [
      "c:\\python36\\lib\\site-packages\\sklearn\\model_selection\\_search.py:814: DeprecationWarning: The default of the `iid` parameter will change from True to False in version 0.22 and will be removed in 0.24. This will change numeric results when test-set sizes are unequal.\n",
      "  DeprecationWarning)\n"
     ]
    }
   ],
   "source": [
    "# Долго!\n",
    "from sklearn.model_selection import GridSearchCV\n",
    "nnb = [1, 3, 5, 10, 15, 20, 25, 35, 45, 55]\n",
    "knn = KNeighborsClassifier()\n",
    "grid = GridSearchCV(knn, param_grid = {'n_neighbors': nnb}, cv=10)\n",
    "grid.fit(X_train, y_train)\n",
    "\n",
    "best_cv_err = 1 - grid.best_score_\n",
    "best_n_neighbors = grid.best_estimator_.n_neighbors\n",
    "print(best_cv_err, best_n_neighbors)"
   ]
  },
  {
   "cell_type": "code",
   "execution_count": 81,
   "metadata": {},
   "outputs": [
    {
     "name": "stdout",
     "output_type": "stream",
     "text": [
      "0.0 0.03225806451612903\n"
     ]
    }
   ],
   "source": [
    "knn = KNeighborsClassifier(n_neighbors = best_n_neighbors).fit(X_train, y_train)\n",
    "\n",
    "err_train = np.mean(y_train != knn.predict(X_train))\n",
    "err_test  = np.mean(y_test  != knn.predict(X_test))\n",
    "\n",
    "print(err_train, err_test)"
   ]
  },
  {
   "cell_type": "markdown",
   "metadata": {},
   "source": [
    "# SVC"
   ]
  },
  {
   "cell_type": "code",
   "execution_count": 55,
   "metadata": {},
   "outputs": [
    {
     "name": "stdout",
     "output_type": "stream",
     "text": [
      "0.22857142857142856 0.3548387096774194\n"
     ]
    },
    {
     "name": "stderr",
     "output_type": "stream",
     "text": [
      "c:\\python36\\lib\\site-packages\\sklearn\\svm\\base.py:193: FutureWarning: The default value of gamma will change from 'auto' to 'scale' in version 0.22 to account better for unscaled features. Set gamma explicitly to 'auto' or 'scale' to avoid this warning.\n",
      "  \"avoid this warning.\", FutureWarning)\n"
     ]
    }
   ],
   "source": [
    "from sklearn.svm import SVC\n",
    "svc = SVC()\n",
    "svc.fit(X_train, y_train)\n",
    "\n",
    "err_train = np.mean(y_train != svc.predict(X_train))\n",
    "err_test  = np.mean(y_test  != svc.predict(X_test))\n",
    "\n",
    "print(err_train, err_test)"
   ]
  },
  {
   "cell_type": "markdown",
   "metadata": {},
   "source": [
    "### Подбор параметров"
   ]
  },
  {
   "cell_type": "code",
   "execution_count": 56,
   "metadata": {},
   "outputs": [
    {
     "name": "stderr",
     "output_type": "stream",
     "text": [
      "c:\\python36\\lib\\site-packages\\sklearn\\model_selection\\_split.py:1978: FutureWarning: The default value of cv will change from 3 to 5 in version 0.22. Specify it explicitly to silence this warning.\n",
      "  warnings.warn(CV_WARNING, FutureWarning)\n",
      "c:\\python36\\lib\\site-packages\\sklearn\\model_selection\\_split.py:657: Warning: The least populated class in y has only 2 members, which is too few. The minimum number of members in any class cannot be less than n_splits=3.\n",
      "  % (min_groups, self.n_splits)), Warning)\n"
     ]
    },
    {
     "name": "stdout",
     "output_type": "stream",
     "text": [
      "0.042857142857142816 10.0\n"
     ]
    },
    {
     "name": "stderr",
     "output_type": "stream",
     "text": [
      "c:\\python36\\lib\\site-packages\\sklearn\\model_selection\\_search.py:814: DeprecationWarning: The default of the `iid` parameter will change from True to False in version 0.22 and will be removed in 0.24. This will change numeric results when test-set sizes are unequal.\n",
      "  DeprecationWarning)\n"
     ]
    }
   ],
   "source": [
    "from sklearn.model_selection import GridSearchCV\n",
    "Cs = 10.**np.arange(-5, 5)\n",
    "gamma_array = 10.**np.arange(-5, 5)\n",
    "svc = SVC()\n",
    "grid = GridSearchCV(svc, param_grid = {'C': Cs, 'gamma': gamma_array})\n",
    "grid.fit(X_train, y_train)\n",
    "\n",
    "best_cv_err = 1 - grid.best_score_\n",
    "best_C = grid.best_estimator_.C\n",
    "print(best_cv_err, best_C)"
   ]
  },
  {
   "cell_type": "code",
   "execution_count": 57,
   "metadata": {},
   "outputs": [
    {
     "name": "stdout",
     "output_type": "stream",
     "text": [
      "0.0 0.03225806451612903\n"
     ]
    },
    {
     "name": "stderr",
     "output_type": "stream",
     "text": [
      "c:\\python36\\lib\\site-packages\\sklearn\\svm\\base.py:193: FutureWarning: The default value of gamma will change from 'auto' to 'scale' in version 0.22 to account better for unscaled features. Set gamma explicitly to 'auto' or 'scale' to avoid this warning.\n",
      "  \"avoid this warning.\", FutureWarning)\n"
     ]
    }
   ],
   "source": [
    "svc = SVC(C = best_C).fit(X_train, y_train)\n",
    "\n",
    "err_train = np.mean(y_train != knn.predict(X_train))\n",
    "err_test  = np.mean(y_test  != knn.predict(X_test))\n",
    "\n",
    "print(err_train, err_test)"
   ]
  },
  {
   "cell_type": "markdown",
   "metadata": {},
   "source": [
    "# Random Forest"
   ]
  },
  {
   "cell_type": "code",
   "execution_count": 58,
   "metadata": {},
   "outputs": [
    {
     "name": "stdout",
     "output_type": "stream",
     "text": [
      "0.0 0.06451612903225806\n"
     ]
    }
   ],
   "source": [
    "from sklearn import ensemble\n",
    "rf = ensemble.RandomForestClassifier(n_estimators = 1000)\n",
    "rf.fit(X_train, y_train)\n",
    "\n",
    "err_train = np.mean(y_train != rf.predict(X_train))\n",
    "err_test  = np.mean(y_test  != rf.predict(X_test))\n",
    "\n",
    "print(err_train, err_test)"
   ]
  },
  {
   "cell_type": "markdown",
   "metadata": {},
   "source": [
    "### Значимость признаков"
   ]
  },
  {
   "cell_type": "code",
   "execution_count": 59,
   "metadata": {},
   "outputs": [
    {
     "data": {
      "text/plain": [
       "[3, 234, 7, 4, 3, 32]"
      ]
     },
     "execution_count": 59,
     "metadata": {},
     "output_type": "execute_result"
    }
   ],
   "source": [
    "a=[1,2,5,70,32,3,4,7,234, 3]\n",
    "a[-1:3:-1]"
   ]
  },
  {
   "cell_type": "code",
   "execution_count": 60,
   "metadata": {},
   "outputs": [
    {
     "data": {
      "text/plain": [
       "1.0"
      ]
     },
     "execution_count": 60,
     "metadata": {},
     "output_type": "execute_result"
    }
   ],
   "source": [
    "np.sum(rf.feature_importances_)"
   ]
  },
  {
   "cell_type": "code",
   "execution_count": 61,
   "metadata": {
    "scrolled": true
   },
   "outputs": [
    {
     "name": "stdout",
     "output_type": "stream",
     "text": [
      "Feature ranking:\n",
      " 1. feature ' milk' (0.105903)\n",
      " 2. feature 'feathers' (0.099229)\n",
      " 3. feature ' legs' (0.088912)\n",
      " 4. feature ' eggs' (0.083499)\n",
      " 5. feature ' hair' (0.080166)\n",
      " 6. feature 'toothed' (0.079664)\n",
      " 7. feature 'breathes' (0.068490)\n",
      " 8. feature ' fins' (0.052485)\n",
      " 9. feature 'backbone' (0.050461)\n",
      "10. feature ' tail' (0.041755)\n",
      "11. feature 'airborne' (0.039164)\n",
      "12. feature 'aquatic' (0.036335)\n",
      "13. feature 'catsize' (0.020074)\n",
      "14. feature 'predator' (0.013912)\n",
      "15. feature 'animal_name_newt' (0.008436)\n",
      "16. feature 'animal_name_tortoise' (0.007676)\n",
      "17. feature 'animal_name_tuatara' (0.007647)\n",
      "18. feature 'animal_name_frog' (0.007146)\n",
      "19. feature 'animal_name_slowworm' (0.007134)\n",
      "20. feature 'animal_name_flea' (0.006689)\n",
      "21. feature 'animal_name_termite' (0.006247)\n",
      "22. feature 'venomous' (0.005877)\n",
      "23. feature 'animal_name_worm' (0.005819)\n",
      "24. feature 'animal_name_moth' (0.005257)\n",
      "25. feature 'animal_name_slug' (0.004803)\n",
      "26. feature 'animal_name_pitviper' (0.004625)\n",
      "27. feature 'animal_name_dolphin' (0.003504)\n",
      "28. feature 'animal_name_starfish' (0.003179)\n",
      "29. feature 'animal_name_lobster' (0.003110)\n",
      "30. feature 'animal_name_octopus' (0.003107)\n",
      "31. feature 'animal_name_crab' (0.002980)\n",
      "32. feature 'animal_name_clam' (0.002807)\n",
      "33. feature 'animal_name_platypus' (0.002444)\n",
      "34. feature 'animal_name_pike' (0.002108)\n",
      "35. feature 'domestic' (0.001930)\n",
      "36. feature 'animal_name_ostrich' (0.001855)\n",
      "37. feature 'animal_name_stingray' (0.001646)\n",
      "38. feature 'animal_name_rhea' (0.001577)\n",
      "39. feature 'animal_name_carp' (0.001530)\n",
      "40. feature 'animal_name_tuna' (0.001519)\n",
      "41. feature 'animal_name_kiwi' (0.001515)\n",
      "42. feature 'animal_name_catfish' (0.001504)\n",
      "43. feature 'animal_name_bass' (0.001484)\n",
      "44. feature 'animal_name_haddock' (0.001450)\n",
      "45. feature 'animal_name_penguin' (0.001378)\n",
      "46. feature 'animal_name_sole' (0.001364)\n",
      "47. feature 'animal_name_herring' (0.001349)\n",
      "48. feature 'animal_name_seahorse' (0.001166)\n",
      "49. feature 'animal_name_piranha' (0.001081)\n",
      "50. feature 'animal_name_skua' (0.000988)\n",
      "51. feature 'animal_name_swan' (0.000941)\n",
      "52. feature 'animal_name_vulture' (0.000905)\n",
      "53. feature 'animal_name_sealion' (0.000891)\n",
      "54. feature 'animal_name_hawk' (0.000833)\n",
      "55. feature 'animal_name_dove' (0.000816)\n",
      "56. feature 'animal_name_fruitbat' (0.000796)\n",
      "57. feature 'animal_name_flamingo' (0.000783)\n",
      "58. feature 'animal_name_seal' (0.000738)\n",
      "59. feature 'animal_name_lark' (0.000734)\n",
      "60. feature 'animal_name_wren' (0.000665)\n",
      "61. feature 'animal_name_crow' (0.000633)\n",
      "62. feature 'animal_name_parakeet' (0.000594)\n",
      "63. feature 'animal_name_pheasant' (0.000556)\n",
      "64. feature 'animal_name_sparrow' (0.000545)\n",
      "65. feature 'animal_name_opossum' (0.000481)\n",
      "66. feature 'animal_name_hamster' (0.000479)\n",
      "67. feature 'animal_name_gorilla' (0.000464)\n",
      "68. feature 'animal_name_duck' (0.000429)\n",
      "69. feature 'animal_name_mink' (0.000379)\n",
      "70. feature 'animal_name_girl' (0.000341)\n",
      "71. feature 'animal_name_vole' (0.000319)\n",
      "72. feature 'animal_name_antelope' (0.000281)\n",
      "73. feature 'animal_name_bear' (0.000280)\n",
      "74. feature 'animal_name_hare' (0.000271)\n",
      "75. feature 'animal_name_mole' (0.000247)\n",
      "76. feature 'animal_name_mongoose' (0.000220)\n",
      "77. feature 'animal_name_wolf' (0.000207)\n",
      "78. feature 'animal_name_polecat' (0.000191)\n",
      "79. feature 'animal_name_pony' (0.000180)\n",
      "80. feature 'animal_name_giraffe' (0.000169)\n",
      "81. feature 'animal_name_buffalo' (0.000151)\n",
      "82. feature 'animal_name_deer' (0.000135)\n",
      "83. feature 'animal_name_calf' (0.000104)\n",
      "84. feature 'animal_name_pussycat' (0.000101)\n",
      "85. feature 'animal_name_raccoon' (0.000090)\n",
      "86. feature 'animal_name_lynx' (0.000071)\n",
      "87. feature 'animal_name_housefly' (0.000000)\n",
      "88. feature 'animal_name_scorpion' (0.000000)\n",
      "89. feature 'animal_name_reindeer' (0.000000)\n",
      "90. feature 'animal_name_squirrel' (0.000000)\n",
      "91. feature 'animal_name_seasnake' (0.000000)\n",
      "92. feature 'animal_name_seawasp' (0.000000)\n",
      "93. feature 'animal_name_skimmer' (0.000000)\n",
      "94. feature 'animal_name_toad' (0.000000)\n",
      "95. feature 'animal_name_vampire' (0.000000)\n",
      "96. feature 'animal_name_wallaby' (0.000000)\n",
      "97. feature 'animal_name_wasp' (0.000000)\n",
      "98. feature 'animal_name_aardvark' (0.000000)\n",
      "99. feature 'animal_name_chicken' (0.000000)\n",
      "100. feature 'animal_name_puma' (0.000000)\n",
      "101. feature 'animal_name_oryx' (0.000000)\n",
      "102. feature 'animal_name_leopard' (0.000000)\n",
      "103. feature 'animal_name_lion' (0.000000)\n",
      "104. feature 'animal_name_gull' (0.000000)\n",
      "105. feature 'animal_name_goat' (0.000000)\n",
      "106. feature 'animal_name_gnat' (0.000000)\n",
      "107. feature 'animal_name_elephant' (0.000000)\n",
      "108. feature 'animal_name_dogfish' (0.000000)\n",
      "109. feature 'animal_name_boar' (0.000000)\n",
      "110. feature 'animal_name_crayfish' (0.000000)\n",
      "111. feature 'animal_name_chub' (0.000000)\n",
      "112. feature 'animal_name_honeybee' (0.000000)\n",
      "113. feature 'animal_name_cheetah' (0.000000)\n",
      "114. feature 'animal_name_cavy' (0.000000)\n",
      "115. feature 'animal_name_porpoise' (0.000000)\n",
      "116. feature 'animal_name_ladybird' (0.000000)\n"
     ]
    }
   ],
   "source": [
    "importances = rf.feature_importances_\n",
    "indices = np.argsort(importances)[::-1]\n",
    "\n",
    "print(\"Feature ranking:\")\n",
    "\n",
    "for f in range(d):\n",
    "    print(\"%2d. feature '%5s' (%f)\" % (f + 1, feature_names[indices[f]], importances[indices[f]]))   "
   ]
  },
  {
   "cell_type": "code",
   "execution_count": 62,
   "metadata": {},
   "outputs": [
    {
     "data": {
      "text/plain": [
       "Index(['feathers', 'hair', 'feathers'], dtype='object')"
      ]
     },
     "execution_count": 62,
     "metadata": {},
     "output_type": "execute_result"
    }
   ],
   "source": [
    "feature_names[[1,0,1]]"
   ]
  },
  {
   "cell_type": "code",
   "execution_count": 63,
   "metadata": {},
   "outputs": [
    {
     "data": {
      "text/plain": [
       "(-1, 20)"
      ]
     },
     "execution_count": 63,
     "metadata": {},
     "output_type": "execute_result"
    },
    {
     "data": {
      "image/png": "[encoded data removed]",
      "text/plain": [
       "<Figure size 432x288 with 1 Axes>"
      ]
     },
     "metadata": {
      "needs_background": "light"
     },
     "output_type": "display_data"
    }
   ],
   "source": [
    "d_first = 20\n",
    "plt.title(\"Feature importances\")\n",
    "plt.bar(range(d_first), importances[indices[:d_first]], align = 'center', color = 'r')\n",
    "plt.xticks(range(d_first), feature_names[indices[:d_first]], rotation = 90)\n",
    "plt.xlim([-1, d_first])"
   ]
  },
  {
   "cell_type": "markdown",
   "metadata": {},
   "source": [
    "Для построения модели можно не использовать признаки `animal_name_*`, они не вносят большого вклада. Их не использование позволит уменьшить размерность задачи."
   ]
  },
  {
   "cell_type": "markdown",
   "metadata": {},
   "source": [
    "# Extremely Randomized Trees"
   ]
  },
  {
   "cell_type": "code",
   "execution_count": 64,
   "metadata": {},
   "outputs": [
    {
     "name": "stdout",
     "output_type": "stream",
     "text": [
      "0.0 0.06451612903225806\n"
     ]
    }
   ],
   "source": [
    "ert = ensemble.ExtraTreesClassifier(n_estimators = 100).fit(X_train, y_train)\n",
    "\n",
    "err_train = np.mean(y_train != ert.predict(X_train))\n",
    "err_test  = np.mean(y_test  != ert.predict(X_test))\n",
    "\n",
    "print(err_train, err_test)"
   ]
  },
  {
   "cell_type": "markdown",
   "metadata": {},
   "source": [
    "# AdaBoost"
   ]
  },
  {
   "cell_type": "code",
   "execution_count": 65,
   "metadata": {},
   "outputs": [
    {
     "name": "stdout",
     "output_type": "stream",
     "text": [
      "0.22857142857142856 0.3548387096774194\n"
     ]
    }
   ],
   "source": [
    "ada = ensemble.AdaBoostClassifier(n_estimators = 1000)\n",
    "ada.fit(X_train, y_train)\n",
    "\n",
    "err_train = np.mean(y_train != ada.predict(X_train))\n",
    "err_test = np.mean(y_test != ada.predict(X_test))\n",
    "\n",
    "print(err_train, err_test)"
   ]
  },
  {
   "cell_type": "markdown",
   "metadata": {},
   "source": [
    "# GBT"
   ]
  },
  {
   "cell_type": "code",
   "execution_count": 66,
   "metadata": {},
   "outputs": [
    {
     "name": "stdout",
     "output_type": "stream",
     "text": [
      "0.0 0.0967741935483871\n"
     ]
    }
   ],
   "source": [
    "gbt = ensemble.GradientBoostingClassifier(n_estimators = 1000)\n",
    "gbt.fit(X_train, y_train)\n",
    "\n",
    "err_train = np.mean(y_train != gbt.predict(X_train))\n",
    "err_test = np.mean(y_test != gbt.predict(X_test))\n",
    "\n",
    "print(err_train, err_test)"
   ]
  },
  {
   "cell_type": "markdown",
   "metadata": {},
   "source": [
    "# PCA"
   ]
  },
  {
   "cell_type": "markdown",
   "metadata": {},
   "source": [
    "Применим метод главных компонент"
   ]
  },
  {
   "cell_type": "code",
   "execution_count": 86,
   "metadata": {},
   "outputs": [
    {
     "data": {
      "image/png": "[encoded data removed]",
      "text/plain": [
       "<Figure size 432x288 with 1 Axes>"
      ]
     },
     "metadata": {
      "needs_background": "light"
     },
     "output_type": "display_data"
    },
    {
     "name": "stdout",
     "output_type": "stream",
     "text": [
      "0.03225806451612903\n",
      "3\n"
     ]
    }
   ],
   "source": [
    "from sklearn.decomposition import PCA\n",
    "\n",
    "data = pd.read_csv('./zoo/zoo.csv', sep = ',', engine = 'python')\n",
    "data = data.drop(('animal_name'), axis=1)\n",
    "data\n",
    "\n",
    "components = np.arange(1, len(data.columns))\n",
    "test_err = []\n",
    "train_err = []\n",
    "for comp in components:\n",
    "    pca = PCA(n_components=comp)\n",
    "    X_pca = pca.fit_transform(X)\n",
    "    X_train, X_test, y_train, y_test = train_test_split(X_pca, y, test_size=0.3, random_state=23)\n",
    "    knn = KNeighborsClassifier(n_neighbors=1)\n",
    "    knn.fit(X_train, y_train)\n",
    "    \n",
    "    train_err.append(np.mean(y_train != knn.predict(X_train)))\n",
    "    test_err.append(np.mean(y_test  != knn.predict(X_test)))\n",
    "\n",
    "plt.figure()\n",
    "plt.plot(components, train_err, 'b-o', label = 'train')\n",
    "plt.plot(components, test_err, 'r-o', label = 'test')\n",
    "plt.xlim([np.min(components), np.max(components)])\n",
    "plt.title('PCA')\n",
    "plt.xlabel('components')\n",
    "plt.ylabel('error')\n",
    "plt.legend()\n",
    "plt.show()\n",
    "\n",
    "print(np.min(test_err))  # минимальная ошибка\n",
    "print(np.argmin(test_err)) # оптимальное число компонент\n",
    "    "
   ]
  },
  {
   "cell_type": "markdown",
   "metadata": {},
   "source": [
    "Минимальная ошибка на обучающей выборке достигается при количестве компонент равном 3, при этом ошибка меньше чем соответсвуюшая ошибка без применения метода главных компонент.\n",
    "Таким образом, применение метода главных компонент позволяет снизить ошибку, а так же размерность задачи, а следовательно и размер используемой памяти."
   ]
  },
  {
   "cell_type": "code",
   "execution_count": null,
   "metadata": {},
   "outputs": [],
   "source": []
  }
 ],
 "metadata": {
  "kernelspec": {
   "display_name": "Python 3",
   "language": "python",
   "name": "python3"
  },
  "language_info": {
   "codemirror_mode": {
    "name": "ipython",
    "version": 3
   },
   "file_extension": ".py",
   "mimetype": "text/x-python",
   "name": "python",
   "nbconvert_exporter": "python",
   "pygments_lexer": "ipython3",
   "version": "3.6.0"
  }
 },
 "nbformat": 4,
 "nbformat_minor": 1
}
